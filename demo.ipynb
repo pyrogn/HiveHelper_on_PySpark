{
 "cells": [
  {
   "cell_type": "code",
   "execution_count": 1,
   "id": "54b7f6f1-a926-4ae8-824e-dd31e6beeb50",
   "metadata": {},
   "outputs": [
    {
     "name": "stderr",
     "output_type": "stream",
     "text": [
      "22/12/17 14:35:46 WARN NativeCodeLoader: Unable to load native-hadoop library for your platform... using builtin-java classes where applicable\n",
      "Using Spark's default log4j profile: org/apache/spark/log4j-defaults.properties\n",
      "Setting default log level to \"WARN\".\n",
      "To adjust logging level use sc.setLogLevel(newLevel). For SparkR, use setLogLevel(newLevel).\n",
      "22/12/17 14:35:46 WARN Utils: Service 'SparkUI' could not bind on port 4040. Attempting port 4041.\n"
     ]
    }
   ],
   "source": [
    "from hhop import DFExtender, SchemaManager, spark, col, F\n",
    "import shutil, os, time # working with FS\n",
    "\n",
    "from funs import read_table, write_table_through_view # useful functions\n",
    "from functools import reduce"
   ]
  },
  {
   "cell_type": "markdown",
   "id": "9c326c58-b373-46a1-9a28-a48adc8b298c",
   "metadata": {},
   "source": [
    "Возможно, пригодятся \n",
    "1. .config(\"spark.hadoop.hive.exec.dynamic.partition\", \"true\") \\\n",
    "2. .config(\"spark.hadoop.hive.exec.dynamic.partition.mode\", \"nonstrict\") \\"
   ]
  },
  {
   "cell_type": "markdown",
   "id": "58dde296-64b9-433e-8eea-f0f6aff0c8d0",
   "metadata": {
    "tags": []
   },
   "source": [
    "## Comparing tables"
   ]
  },
  {
   "cell_type": "code",
   "execution_count": 2,
   "id": "96b27f14-79ca-407f-b0e8-e3278d420cc6",
   "metadata": {},
   "outputs": [],
   "source": [
    "# df_ref_csv = spark.read.csv('./synth_data/table2.csv', header=True, sep=';')\n",
    "# (\n",
    "#     df_ref_csv.write.mode('overwrite')\n",
    "#     .partitionBy('dt_part', 'group_part')\n",
    "#     .saveAsTable('default.part_table_test2')\n",
    "# )\n",
    "\n",
    "df = read_table('default.nonpart_table_test1', alias='main')\n",
    "df_ref = read_table('default.part_table_test2', alias='ref')"
   ]
  },
  {
   "cell_type": "code",
   "execution_count": 3,
   "id": "c81a3dd5-4360-4a75-ba95-2da297ea7a36",
   "metadata": {},
   "outputs": [
    {
     "data": {
      "text/plain": [
       "DataFrame[index: string, pk1: string, pk2: string, var1: string, var2: string, dt_part: string, group_part: string]"
      ]
     },
     "execution_count": 3,
     "metadata": {},
     "output_type": "execute_result"
    }
   ],
   "source": [
    "df"
   ]
  },
  {
   "cell_type": "code",
   "execution_count": 4,
   "id": "009e39aa-6869-489e-8d5a-1dab3520fe68",
   "metadata": {},
   "outputs": [],
   "source": [
    "df_main = DFExtender(df)"
   ]
  },
  {
   "cell_type": "code",
   "execution_count": 5,
   "id": "dc2060b0-65b1-4bd9-9885-034e870b5eeb",
   "metadata": {},
   "outputs": [
    {
     "name": "stderr",
     "output_type": "stream",
     "text": [
      "                                                                                \r"
     ]
    },
    {
     "name": "stdout",
     "output_type": "stream",
     "text": [
      "[[9, 8, 1], [9, 9, 0]]\n",
      "{'var1_sum_error': 0, 'index_sum_error': 1, 'group_part_sum_error': 1, 'dt_part_sum_error': 2, 'var2_sum_error': 0}\n",
      "{'not in main': 4, 'not in reference': 3, 'correct matching': 6}\n"
     ]
    }
   ],
   "source": [
    "df_main.compareTables(df_ref, key=['pk1', 'pk2'])"
   ]
  },
  {
   "cell_type": "code",
   "execution_count": null,
   "id": "57944429-157e-4546-8e7b-4223072ed959",
   "metadata": {},
   "outputs": [],
   "source": []
  },
  {
   "cell_type": "code",
   "execution_count": null,
   "id": "9cca9c7d-9b51-44f7-bfc9-14e5f0f409d3",
   "metadata": {},
   "outputs": [],
   "source": []
  },
  {
   "cell_type": "code",
   "execution_count": 180,
   "id": "107d95a2-c294-49ac-9a9b-d594e9316432",
   "metadata": {},
   "outputs": [
    {
     "data": {
      "text/plain": [
       "DataFrame[index: string, pk1: string, pk2: string, var1: string, var2: string, dt_part: string, group_part: string]"
      ]
     },
     "execution_count": 180,
     "metadata": {},
     "output_type": "execute_result"
    }
   ],
   "source": [
    "df_ref"
   ]
  },
  {
   "cell_type": "code",
   "execution_count": 181,
   "id": "bd0640a0-2e07-4e89-b67a-a9ce5bf77800",
   "metadata": {},
   "outputs": [],
   "source": [
    "def add_column_is_diff(df, col):\n",
    "    cond_diff = (\n",
    "        (df1[dummy1].isNotNull() & df2[dummy2].isNotNull())\n",
    "        & (df1[col] != df2[col])\n",
    "    )\n",
    "    return df.withColumn(col+diff_postfix, F.when(cond_diff, 1).otherwise(0))"
   ]
  },
  {
   "cell_type": "code",
   "execution_count": 211,
   "id": "6ce7254e-dc4c-41eb-93a4-d5404a694584",
   "metadata": {},
   "outputs": [
    {
     "name": "stdout",
     "output_type": "stream",
     "text": [
      "{'var1_sum_error': 0, 'var2_sum_error': 0, 'dt_part_sum_error': 2, 'group_part_sum_error': 1, 'index_sum_error': 1}\n",
      "{'not in main': 4, 'not in reference': 3, 'correct matching': 6}\n"
     ]
    }
   ],
   "source": [
    "df1_cols = set(df.columns)\n",
    "df2_cols = set(df_ref.columns)\n",
    "key = ['pk1', 'pk2']\n",
    "common_cols = (df1_cols & df2_cols) - set(key)\n",
    "\n",
    "diff_postfix = '_is_diff'\n",
    "sum_postfix = '_sum_error'\n",
    "\n",
    "cols_not_in_main, cols_not_in_ref = df2_cols - df1_cols, df1_cols - df2_cols\n",
    "\n",
    "\n",
    "dummy_column = 'hhop_const_value_column'\n",
    "dummy1, dummy2 = dummy_column + '1', dummy_column + '2'\n",
    "\n",
    "df1 = df.withColumn(dummy1, F.lit(1))\n",
    "df2 = df_ref.withColumn(dummy2, F.lit(1))\n",
    "\n",
    "df_joined = df1.join(df2, on=key, how='full')\n",
    "\n",
    "df_temp = reduce(add_column_is_diff, common_cols, df_joined)\n",
    "\n",
    "diff_results = (\n",
    "    df_temp\n",
    "    .agg(\n",
    "        *(\n",
    "            F.sum(col_is_diff + diff_postfix).alias(col_is_diff + sum_postfix)\n",
    "        for col_is_diff in common_cols\n",
    "        )\n",
    "    ).collect()[0]\n",
    ")\n",
    "\n",
    "diff_results_dict = {}\n",
    "\n",
    "for column in common_cols:\n",
    "    diff_column = column + diff_postfix\n",
    "    sum_column = column + sum_postfix\n",
    "    diff_results_dict[sum_column] = diff_results[sum_column]\n",
    "    \n",
    "print(diff_results_dict)\n",
    "\n",
    "# 2 part\n",
    "k = df_temp.groupBy(dummy1, dummy2).count().cache()\n",
    "\n",
    "cases_full_join = {\n",
    "    'not in main': (col(dummy1).isNull() & col(dummy2).isNotNull()),\n",
    "    # col(dummy1).isNull() & col(dummy2).isNotNull()\n",
    "    'not in reference': col(dummy1).isNotNull() & col(dummy2).isNull(),\n",
    "    'correct matching': col(dummy1).isNotNull() & col(dummy2).isNotNull(),\n",
    "}\n",
    "\n",
    "get_cnt_cases = lambda x: k.filter(x).select('count').collect()[0]['count']\n",
    "\n",
    "cnt_results = {}\n",
    "for key, value in cases_full_join.items():\n",
    "    cnt_results[key] = get_cnt_cases(value)\n",
    "print(cnt_results)\n",
    "# df_temp.show(100, 5)"
   ]
  },
  {
   "cell_type": "code",
   "execution_count": 187,
   "id": "5d3595e5-c6bd-4886-92e6-72d53907f605",
   "metadata": {},
   "outputs": [
    {
     "name": "stdout",
     "output_type": "stream",
     "text": [
      "+----+----+-----+-----+-----+-------+----------+------------------------+-----+-----+-----+-------+----------+------------------------+------------+------------+---------------+------------------+-------------+\n",
      "| pk1| pk2|index| var1| var2|dt_part|group_part|hhop_const_value_column1|index| var1| var2|dt_part|group_part|hhop_const_value_column2|var1_is_diff|var2_is_diff|dt_part_is_diff|group_part_is_diff|index_is_diff|\n",
      "+----+----+-----+-----+-----+-------+----------+------------------------+-----+-----+-----+-------+----------+------------------------+------------+------------+---------------+------------------+-------------+\n",
      "|key1|  11| null| null| null|   null|      null|                    null|    2|va...|va...|  20...|     gr...|                       1|           0|           0|              0|                 0|            0|\n",
      "|key5|   5| null| null| null|   null|      null|                    null|    9|va...|va...|  20...|     gr...|                       1|           0|           0|              0|                 0|            0|\n",
      "|null|null|    9|va...|va...|  20...|     gr...|                       1| null| null| null|   null|      null|                    null|           0|           0|              0|                 0|            0|\n",
      "|key1|   1|    1|va...|va...|  20...|     gr...|                       1|    1|va...|va...|  20...|     gr...|                       1|           0|           0|              0|                 1|            0|\n",
      "|key1|   1|    2|va...|va...|  20...|     gr...|                       1|    1|va...|va...|  20...|     gr...|                       1|           0|           0|              1|                 0|            1|\n",
      "|key2|   2|    4| null|va...|  20...|     gr...|                       1|    4| null|va...|  20...|     gr...|                       1|           0|           0|              0|                 0|            0|\n",
      "|key2|   3|    5|va...|va...|  20...|     gr...|                       1|    5|va...|va...|  20...|     gr...|                       1|           0|           0|              0|                 0|            0|\n",
      "|key2|null|    7|va...|va...|  20...|     gr...|                       1| null| null| null|   null|      null|                    null|           0|           0|              0|                 0|            0|\n",
      "|key2|null| null| null| null|   null|      null|                    null|    7|va...|va...|  20...|     gr...|                       1|           0|           0|              0|                 0|            0|\n",
      "|key1|   2|    3|va...|va...|  20...|     gr...|                       1|    3|va...|va...|  20...|     gr...|                       1|           0|           0|              0|                 0|            0|\n",
      "|null|   4|    8|va...|va...|  20...|     gr...|                       1| null| null| null|   null|      null|                    null|           0|           0|              0|                 0|            0|\n",
      "|null|   4| null| null| null|   null|      null|                    null|    8|va...|va...|  20...|     gr...|                       1|           0|           0|              0|                 0|            0|\n",
      "|key2|   4|    6|va...| null|  20...|     gr...|                       1|    6|va...| null|  20...|     gr...|                       1|           0|           0|              1|                 0|            0|\n",
      "+----+----+-----+-----+-----+-------+----------+------------------------+-----+-----+-----+-------+----------+------------------------+------------+------------+---------------+------------------+-------------+\n",
      "\n"
     ]
    }
   ],
   "source": [
    "df_temp.show(100, 5)"
   ]
  },
  {
   "cell_type": "markdown",
   "id": "19582cd6-8bba-4576-bafc-4f751384e75b",
   "metadata": {
    "jp-MarkdownHeadingCollapsed": true,
    "tags": []
   },
   "source": [
    "## Synth table"
   ]
  },
  {
   "cell_type": "code",
   "execution_count": 2,
   "id": "8ac7ee8a-a703-44f5-86d6-db9a77346caf",
   "metadata": {},
   "outputs": [],
   "source": [
    "df_src = spark.read.csv('./synth_data/table1.csv', header=True, sep=';')"
   ]
  },
  {
   "cell_type": "code",
   "execution_count": 3,
   "id": "aaaa138e-7ef5-4008-a5ee-364cf507e99a",
   "metadata": {},
   "outputs": [
    {
     "name": "stdout",
     "output_type": "stream",
     "text": [
      "+-----+----+----+------+--------+----------+----------+\n",
      "|index| pk1| pk2|  var1|    var2|   dt_part|group_part|\n",
      "+-----+----+----+------+--------+----------+----------+\n",
      "|    1|key1|   1|value1|value2_1|2022-12-15|    group1|\n",
      "|    2|key1|   1|value1|value2_1|2022-12-16|    group2|\n",
      "|    3|key1|   2|value1|value2_1|2022-12-16|    group3|\n",
      "|    4|key2|   2|  null|value2_1|2022-12-17|    group1|\n",
      "|    5|key2|   3|value1|value2_1|2022-12-18|    group2|\n",
      "|    6|key2|   4|value1|    null|2022-12-19|    group3|\n",
      "|    7|key2|null|value1|value2_1|2022-12-19|    group4|\n",
      "|    8|null|   4|value1|value2_1|2022-12-20|    group3|\n",
      "|    9|null|null|value1|value2_1|2022-12-20|    group7|\n",
      "+-----+----+----+------+--------+----------+----------+\n",
      "\n"
     ]
    }
   ],
   "source": [
    "df_src.show()"
   ]
  },
  {
   "cell_type": "code",
   "execution_count": 4,
   "id": "9bf11d6f-563e-4652-add7-5c15e48ec599",
   "metadata": {},
   "outputs": [
    {
     "name": "stderr",
     "output_type": "stream",
     "text": [
      "                                                                                \r"
     ]
    }
   ],
   "source": [
    "df_src.write.mode('overwrite').partitionBy('dt_part', 'group_part').saveAsTable('default.part_table_test1')\n",
    "df_src.write.mode('overwrite').saveAsTable('default.nonpart_table_test1')"
   ]
  },
  {
   "cell_type": "markdown",
   "id": "ab0a2abe-01e2-413a-8f04-deaacf93b1fb",
   "metadata": {},
   "source": [
    "## Info about table"
   ]
  },
  {
   "cell_type": "markdown",
   "id": "d11616d9-de5d-4dde-8f96-ceab126beb13",
   "metadata": {},
   "source": [
    "### Reading table from Hive"
   ]
  },
  {
   "cell_type": "code",
   "execution_count": 5,
   "id": "77c4f3ce-0d4b-4174-925f-1b6f5025ca02",
   "metadata": {},
   "outputs": [
    {
     "name": "stdout",
     "output_type": "stream",
     "text": [
      "root\n",
      " |-- index: string (nullable = true)\n",
      " |-- pk1: string (nullable = true)\n",
      " |-- pk2: string (nullable = true)\n",
      " |-- var1: string (nullable = true)\n",
      " |-- var2: string (nullable = true)\n",
      " |-- dt_part: string (nullable = true)\n",
      " |-- group_part: string (nullable = true)\n",
      "\n",
      "location: file:/Users/pyro/github/HiveHelper_on_PySpark/spark-warehouse/part_table_test1\n",
      "partition columns: ['dt_part', 'group_part']\n"
     ]
    }
   ],
   "source": [
    "df_hive = read_table('default.part_table_test1', verbose=True)"
   ]
  },
  {
   "cell_type": "code",
   "execution_count": 6,
   "id": "e31e4e76-2d82-4da2-af58-0f4dce5dd4bd",
   "metadata": {},
   "outputs": [],
   "source": [
    "df = DFExtender(df_hive, pk=['pk1', 'pk2'], verbose=True)"
   ]
  },
  {
   "cell_type": "markdown",
   "id": "30a374fc-f207-4e69-9142-9a432aec6d8e",
   "metadata": {},
   "source": [
    "### sanity checks: PK, NULL"
   ]
  },
  {
   "cell_type": "code",
   "execution_count": 7,
   "id": "644274f0-c198-49d3-8474-37f49bff72e2",
   "metadata": {},
   "outputs": [],
   "source": [
    "df_filled = df_hive.fillna({'pk1': 'default', 'pk2': 'default'})"
   ]
  },
  {
   "cell_type": "code",
   "execution_count": 8,
   "id": "2d654862-3ae7-4c1f-9dd6-6025aa697be8",
   "metadata": {},
   "outputs": [
    {
     "name": "stdout",
     "output_type": "stream",
     "text": [
      "+-----+-------+-------+------+--------+----------+----------+\n",
      "|index|    pk1|    pk2|  var1|    var2|   dt_part|group_part|\n",
      "+-----+-------+-------+------+--------+----------+----------+\n",
      "|    1|   key1|      1|value1|value2_1|2022-12-15|    group1|\n",
      "|    2|   key1|      1|value1|value2_1|2022-12-16|    group2|\n",
      "|    3|   key1|      2|value1|value2_1|2022-12-16|    group3|\n",
      "|    5|   key2|      3|value1|value2_1|2022-12-18|    group2|\n",
      "|    7|   key2|default|value1|value2_1|2022-12-19|    group4|\n",
      "|    8|default|      4|value1|value2_1|2022-12-20|    group3|\n",
      "|    4|   key2|      2|  null|value2_1|2022-12-17|    group1|\n",
      "|    9|default|default|value1|value2_1|2022-12-20|    group7|\n",
      "|    6|   key2|      4|value1|    null|2022-12-19|    group3|\n",
      "+-----+-------+-------+------+--------+----------+----------+\n",
      "\n"
     ]
    }
   ],
   "source": [
    "df_filled.show()"
   ]
  },
  {
   "cell_type": "code",
   "execution_count": 9,
   "id": "764b69ff-436b-497a-92fb-21ace914e09c",
   "metadata": {},
   "outputs": [
    {
     "name": "stdout",
     "output_type": "stream",
     "text": [
      "Count all:           9\n",
      "Unique PK count:     8\n",
      "PK with duplicates:  1\n",
      "\n",
      "Null values in columns - {'column': [count NULL, share NULL]}:\n",
      "{'var1': [1, 0.1111], 'var2': [1, 0.1111]}\n"
     ]
    }
   ],
   "source": [
    "DFExtender(df_filled, ['pk1', 'pk2'], verbose=True).getInfo()"
   ]
  },
  {
   "cell_type": "code",
   "execution_count": 10,
   "id": "820e8d38-2962-4e40-9424-55388a8a8753",
   "metadata": {},
   "outputs": [
    {
     "name": "stdout",
     "output_type": "stream",
     "text": [
      "Count all:           9\n",
      "PK column 'pk1' contains empty values, be careful!\n",
      "PK column 'pk2' contains empty values, be careful!\n",
      "Unique PK count:     8\n",
      "PK with duplicates:  1\n",
      "\n",
      "Null values in columns - {'column': [count NULL, share NULL]}:\n",
      "{'pk1': [2, 0.2222], 'pk2': [2, 0.2222], 'var1': [1, 0.1111], 'var2': [1, 0.1111]}\n"
     ]
    }
   ],
   "source": [
    "DFExtender(df_hive, ['pk1', 'pk2'], verbose=True).getInfo()"
   ]
  },
  {
   "cell_type": "code",
   "execution_count": 11,
   "id": "d5bcde33-f8ec-40b1-949f-93e6c921d9de",
   "metadata": {},
   "outputs": [
    {
     "name": "stdout",
     "output_type": "stream",
     "text": [
      "+----+----+-----+\n",
      "| pk1| pk2|count|\n",
      "+----+----+-----+\n",
      "|null|null|    1|\n",
      "|key1|   1|    2|\n",
      "|key2|   2|    1|\n",
      "|key2|   3|    1|\n",
      "|key2|null|    1|\n",
      "|key1|   2|    1|\n",
      "|null|   4|    1|\n",
      "|key2|   4|    1|\n",
      "+----+----+-----+\n",
      "\n"
     ]
    }
   ],
   "source": [
    "df.groupBy(['pk1', 'pk2']).count().show()"
   ]
  },
  {
   "cell_type": "markdown",
   "id": "24551538-34b8-422c-a517-2fcf98a7784e",
   "metadata": {},
   "source": [
    "## SchemaManager"
   ]
  },
  {
   "cell_type": "markdown",
   "id": "ac0dcafa-9751-414f-a08d-43b9cce4628a",
   "metadata": {},
   "source": [
    "### dropping empty tables"
   ]
  },
  {
   "cell_type": "code",
   "execution_count": 12,
   "id": "e680e417-3e61-4615-a855-9b91fcc95e72",
   "metadata": {},
   "outputs": [
    {
     "data": {
      "text/plain": [
       "DataFrame[]"
      ]
     },
     "execution_count": 12,
     "metadata": {},
     "output_type": "execute_result"
    }
   ],
   "source": [
    "schema_name = 'popular_schema'\n",
    "spark.sql(f\"drop database if exists {schema_name} cascade\")\n",
    "spark.sql(f'create database {schema_name}')"
   ]
  },
  {
   "cell_type": "code",
   "execution_count": 13,
   "id": "d8544bc1-11f5-4734-ae7d-fef940760aeb",
   "metadata": {},
   "outputs": [],
   "source": [
    "df_src_write = df_src.write.mode('overwrite')\n",
    "df_src_write.partitionBy('dt_part', 'group_part').saveAsTable(f'{schema_name}.table1')\n",
    "df_src_write.saveAsTable(f'{schema_name}.table2')\n",
    "df_src_write.saveAsTable(f'{schema_name}.table3')"
   ]
  },
  {
   "cell_type": "markdown",
   "id": "046ce783-1957-4964-843b-243aeff49fe0",
   "metadata": {},
   "source": [
    "table1 has dir + data   \n",
    "table2 has only root dir    \n",
    "table3 doesn't have any dir and data"
   ]
  },
  {
   "cell_type": "code",
   "execution_count": 14,
   "id": "dd7a039e-d00b-4a15-ac0b-d6dd80b3edee",
   "metadata": {},
   "outputs": [],
   "source": [
    "shutil.rmtree('./spark-warehouse/popular_schema.db/table2', ignore_errors=True)\n",
    "os.makedirs('./spark-warehouse/popular_schema.db/table2')\n",
    "shutil.rmtree('./spark-warehouse/popular_schema.db/table3', ignore_errors=True)"
   ]
  },
  {
   "cell_type": "code",
   "execution_count": 15,
   "id": "1bb55ebf-3739-48d7-b587-0d4d494d9746",
   "metadata": {},
   "outputs": [
    {
     "name": "stdout",
     "output_type": "stream",
     "text": [
      "+--------------+---------+-----------+\n",
      "|database      |tableName|isTemporary|\n",
      "+--------------+---------+-----------+\n",
      "|popular_schema|table1   |false      |\n",
      "|popular_schema|table2   |false      |\n",
      "|popular_schema|table3   |false      |\n",
      "+--------------+---------+-----------+\n",
      "\n"
     ]
    }
   ],
   "source": [
    "spark.sql(f\"show tables in {schema_name}\").show(10, False)"
   ]
  },
  {
   "cell_type": "code",
   "execution_count": 16,
   "id": "f293f40f-a96c-465d-b66a-ac90a3cc6b52",
   "metadata": {},
   "outputs": [
    {
     "name": "stderr",
     "output_type": "stream",
     "text": [
      "[Stage 70:>                                                         (0 + 3) / 3]\r"
     ]
    },
    {
     "name": "stdout",
     "output_type": "stream",
     "text": [
      "3 tables in popular_schema\n",
      "run drop_empty_tables() to drop empty tables in popular_schema\n"
     ]
    },
    {
     "name": "stderr",
     "output_type": "stream",
     "text": [
      "                                                                                \r"
     ]
    }
   ],
   "source": [
    "popular_schema = SchemaManager('popular_schema')"
   ]
  },
  {
   "cell_type": "code",
   "execution_count": 17,
   "id": "63446417-41ab-44e0-8b99-4d3042ffa3d7",
   "metadata": {},
   "outputs": [
    {
     "name": "stdout",
     "output_type": "stream",
     "text": [
      "2 going to be dropped out of 3 (66.67%). Schema: popular_schema\n",
      "After dropping tables there are 1 tables in popular_schema\n"
     ]
    },
    {
     "name": "stderr",
     "output_type": "stream",
     "text": [
      "22/12/16 16:57:54 ERROR FileUtils: Failed to delete file:/Users/pyro/github/HiveHelper_on_PySpark/spark-warehouse/popular_schema.db/table3\n"
     ]
    }
   ],
   "source": [
    "popular_schema.drop_empty_tables()"
   ]
  },
  {
   "cell_type": "code",
   "execution_count": 19,
   "id": "7f657d0b-94b2-4d22-97e8-8f028e74f8ed",
   "metadata": {},
   "outputs": [
    {
     "name": "stdout",
     "output_type": "stream",
     "text": [
      "+--------------+---------+-----------+\n",
      "|database      |tableName|isTemporary|\n",
      "+--------------+---------+-----------+\n",
      "|popular_schema|table1   |false      |\n",
      "+--------------+---------+-----------+\n",
      "\n"
     ]
    }
   ],
   "source": [
    "spark.sql(f\"show tables in {schema_name}\").show(10, False)"
   ]
  },
  {
   "cell_type": "markdown",
   "id": "684b3ecb-9834-47bc-94c8-f40fa96547a2",
   "metadata": {},
   "source": [
    "## Extra"
   ]
  },
  {
   "cell_type": "markdown",
   "id": "27775b51-7ee1-46b0-926e-ea7865d2332e",
   "metadata": {},
   "source": [
    "unionAll"
   ]
  },
  {
   "cell_type": "markdown",
   "id": "f0c8d6e6-249a-4948-8bf4-9c597fb92afa",
   "metadata": {},
   "source": [
    "splitting big dataset if applicable"
   ]
  },
  {
   "cell_type": "markdown",
   "id": "fc6084b6-4744-49ae-b885-046e7bf424d0",
   "metadata": {},
   "source": [
    "writing tables"
   ]
  },
  {
   "cell_type": "markdown",
   "id": "cdd0263d-7f7e-453f-b164-7b6bf9a723b6",
   "metadata": {
    "tags": []
   },
   "source": [
    "## Modification"
   ]
  },
  {
   "cell_type": "markdown",
   "id": "7a97c0be-a9f4-417e-bb02-5598fbbdaf43",
   "metadata": {},
   "source": [
    "1. read as you like, change class to DFExtender to get stats\n",
    "2. use all methods from PySpark as usual"
   ]
  },
  {
   "cell_type": "code",
   "execution_count": null,
   "id": "bffc22ab-b020-4305-b6a7-3c917f920c52",
   "metadata": {},
   "outputs": [],
   "source": []
  },
  {
   "cell_type": "code",
   "execution_count": null,
   "id": "ca692261-4548-4a14-b3e7-d019871213ae",
   "metadata": {},
   "outputs": [],
   "source": []
  },
  {
   "cell_type": "code",
   "execution_count": null,
   "id": "90bd05ac-3f55-43d3-83a9-997710829417",
   "metadata": {},
   "outputs": [],
   "source": []
  },
  {
   "cell_type": "code",
   "execution_count": null,
   "id": "689ee851-10e8-42be-ab36-6c7991c952e0",
   "metadata": {},
   "outputs": [],
   "source": []
  },
  {
   "cell_type": "code",
   "execution_count": null,
   "id": "075be460-e253-4f11-9bdd-87a91274b9ac",
   "metadata": {},
   "outputs": [],
   "source": []
  },
  {
   "cell_type": "code",
   "execution_count": 170,
   "id": "82bd4022-1c2f-47e5-8ad7-f65fda212191",
   "metadata": {},
   "outputs": [],
   "source": [
    "values = [\n",
    "    (\"x\",\"x\"),\n",
    "    (\"x\",\"y\"),\n",
    "    (\"x\",None),\n",
    "    (None,\"x\"),\n",
    "    (None,None),\n",
    "]\n",
    "columns = ['val1', 'val2']\n",
    "df_test = spark.createDataFrame(values, columns)"
   ]
  },
  {
   "cell_type": "code",
   "execution_count": 174,
   "id": "951c6467-9f04-4573-af81-baceb1392027",
   "metadata": {},
   "outputs": [
    {
     "name": "stdout",
     "output_type": "stream",
     "text": [
      "+----+----+--------+-----+\n",
      "|val1|val2|_is_diff| cond|\n",
      "+----+----+--------+-----+\n",
      "|   x|   x|       0| true|\n",
      "|   x|   y|       1| true|\n",
      "|   x|null|       0| true|\n",
      "|null|   x|       0|false|\n",
      "|null|null|       0|false|\n",
      "+----+----+--------+-----+\n",
      "\n"
     ]
    }
   ],
   "source": [
    "cond_diff = (\n",
    "        (df_test['val1'] != df_test['val2'])\n",
    ")\n",
    "\n",
    "(\n",
    "    df_test\n",
    "    .withColumn(diff_postfix, F.when(cond_diff, 1).otherwise(0))\n",
    "    .withColumn('cond', df_test['val1'].isNotNull())\n",
    "    .show(10)\n",
    ")"
   ]
  }
 ],
 "metadata": {
  "kernelspec": {
   "display_name": "Python 3 (ipykernel)",
   "language": "python",
   "name": "python3"
  },
  "language_info": {
   "codemirror_mode": {
    "name": "ipython",
    "version": 3
   },
   "file_extension": ".py",
   "mimetype": "text/x-python",
   "name": "python",
   "nbconvert_exporter": "python",
   "pygments_lexer": "ipython3",
   "version": "3.10.8"
  }
 },
 "nbformat": 4,
 "nbformat_minor": 5
}
