{
 "cells": [
  {
   "cell_type": "code",
   "execution_count": 1,
   "id": "54b7f6f1-a926-4ae8-824e-dd31e6beeb50",
   "metadata": {},
   "outputs": [
    {
     "name": "stderr",
     "output_type": "stream",
     "text": [
      "22/12/16 16:34:08 WARN NativeCodeLoader: Unable to load native-hadoop library for your platform... using builtin-java classes where applicable\n",
      "Using Spark's default log4j profile: org/apache/spark/log4j-defaults.properties\n",
      "Setting default log level to \"WARN\".\n",
      "To adjust logging level use sc.setLogLevel(newLevel). For SparkR, use setLogLevel(newLevel).\n",
      "22/12/16 16:34:08 WARN Utils: Service 'SparkUI' could not bind on port 4040. Attempting port 4041.\n"
     ]
    }
   ],
   "source": [
    "from hhop import DFExtender, SchemaManager, spark, col, F\n",
    "import shutil, os, time # working with FS\n",
    "\n",
    "from funs import read_table, write_table_through_view # useful functions"
   ]
  },
  {
   "cell_type": "markdown",
   "id": "9c326c58-b373-46a1-9a28-a48adc8b298c",
   "metadata": {},
   "source": [
    "Возможно, пригодятся \n",
    "1. .config(\"spark.hadoop.hive.exec.dynamic.partition\", \"true\") \\\n",
    "2. .config(\"spark.hadoop.hive.exec.dynamic.partition.mode\", \"nonstrict\") \\"
   ]
  },
  {
   "cell_type": "markdown",
   "id": "19582cd6-8bba-4576-bafc-4f751384e75b",
   "metadata": {},
   "source": [
    "## Synth table"
   ]
  },
  {
   "cell_type": "code",
   "execution_count": 2,
   "id": "8ac7ee8a-a703-44f5-86d6-db9a77346caf",
   "metadata": {},
   "outputs": [],
   "source": [
    "df_src = spark.read.csv('./synth_data/table1.csv', header=True, sep=';')"
   ]
  },
  {
   "cell_type": "code",
   "execution_count": 3,
   "id": "aaaa138e-7ef5-4008-a5ee-364cf507e99a",
   "metadata": {},
   "outputs": [
    {
     "name": "stdout",
     "output_type": "stream",
     "text": [
      "+-----+----+----+------+--------+----------+----------+\n",
      "|index| pk1| pk2|  var1|    var2|   dt_part|group_part|\n",
      "+-----+----+----+------+--------+----------+----------+\n",
      "|    1|key1|   1|value1|value2_1|2022-12-15|    group1|\n",
      "|    2|key1|   1|value1|value2_1|2022-12-16|    group2|\n",
      "|    3|key1|   2|value1|value2_1|2022-12-16|    group3|\n",
      "|    4|key2|   2|  null|value2_1|2022-12-17|    group1|\n",
      "|    5|key2|   3|value1|value2_1|2022-12-18|    group2|\n",
      "|    6|key2|   4|value1|    null|2022-12-19|    group3|\n",
      "|    7|key2|null|value1|value2_1|2022-12-19|    group4|\n",
      "|    8|null|   4|value1|value2_1|2022-12-20|    group3|\n",
      "|    9|null|null|value1|value2_1|2022-12-20|    group7|\n",
      "+-----+----+----+------+--------+----------+----------+\n",
      "\n"
     ]
    }
   ],
   "source": [
    "df_src.show()"
   ]
  },
  {
   "cell_type": "code",
   "execution_count": 4,
   "id": "9bf11d6f-563e-4652-add7-5c15e48ec599",
   "metadata": {},
   "outputs": [
    {
     "name": "stderr",
     "output_type": "stream",
     "text": [
      "                                                                                \r"
     ]
    }
   ],
   "source": [
    "df_src_write = df_src.write.mode('overwrite')\n",
    "\n",
    "df_src_write.partitionBy('dt_part', 'group_part').saveAsTable('default.part_table_test1')\n",
    "df_src_write.saveAsTable('default.nonpart_table_test1')"
   ]
  },
  {
   "cell_type": "markdown",
   "id": "ab0a2abe-01e2-413a-8f04-deaacf93b1fb",
   "metadata": {},
   "source": [
    "## Info about table"
   ]
  },
  {
   "cell_type": "markdown",
   "id": "d11616d9-de5d-4dde-8f96-ceab126beb13",
   "metadata": {},
   "source": [
    "### Reading table from Hive"
   ]
  },
  {
   "cell_type": "code",
   "execution_count": 5,
   "id": "77c4f3ce-0d4b-4174-925f-1b6f5025ca02",
   "metadata": {},
   "outputs": [
    {
     "name": "stdout",
     "output_type": "stream",
     "text": [
      "root\n",
      " |-- index: string (nullable = true)\n",
      " |-- pk1: string (nullable = true)\n",
      " |-- pk2: string (nullable = true)\n",
      " |-- var1: string (nullable = true)\n",
      " |-- var2: string (nullable = true)\n",
      " |-- dt_part: string (nullable = true)\n",
      " |-- group_part: string (nullable = true)\n",
      "\n",
      "location: file:/Users/pyro/github/HiveHelper_on_PySpark/spark-warehouse/part_table_test1\n",
      "partition columns: ['dt_part', 'group_part']\n"
     ]
    }
   ],
   "source": [
    "df_hive = read_table('default.part_table_test1', verbose=True)"
   ]
  },
  {
   "cell_type": "code",
   "execution_count": 6,
   "id": "e31e4e76-2d82-4da2-af58-0f4dce5dd4bd",
   "metadata": {},
   "outputs": [],
   "source": [
    "df = DFExtender(df_hive, pk=['pk1', 'pk2'], verbose=True)"
   ]
  },
  {
   "cell_type": "markdown",
   "id": "30a374fc-f207-4e69-9142-9a432aec6d8e",
   "metadata": {},
   "source": [
    "### sanity checks: PK, NULL"
   ]
  },
  {
   "cell_type": "code",
   "execution_count": 7,
   "id": "644274f0-c198-49d3-8474-37f49bff72e2",
   "metadata": {},
   "outputs": [],
   "source": [
    "df_filled = df_hive.fillna({'pk1': 'default', 'pk2': 'default'})"
   ]
  },
  {
   "cell_type": "code",
   "execution_count": 8,
   "id": "2d654862-3ae7-4c1f-9dd6-6025aa697be8",
   "metadata": {},
   "outputs": [
    {
     "name": "stdout",
     "output_type": "stream",
     "text": [
      "+-----+-------+-------+------+--------+----------+----------+\n",
      "|index|    pk1|    pk2|  var1|    var2|   dt_part|group_part|\n",
      "+-----+-------+-------+------+--------+----------+----------+\n",
      "|    1|   key1|      1|value1|value2_1|2022-12-15|    group1|\n",
      "|    2|   key1|      1|value1|value2_1|2022-12-16|    group2|\n",
      "|    3|   key1|      2|value1|value2_1|2022-12-16|    group3|\n",
      "|    5|   key2|      3|value1|value2_1|2022-12-18|    group2|\n",
      "|    7|   key2|default|value1|value2_1|2022-12-19|    group4|\n",
      "|    8|default|      4|value1|value2_1|2022-12-20|    group3|\n",
      "|    4|   key2|      2|  null|value2_1|2022-12-17|    group1|\n",
      "|    9|default|default|value1|value2_1|2022-12-20|    group7|\n",
      "|    6|   key2|      4|value1|    null|2022-12-19|    group3|\n",
      "+-----+-------+-------+------+--------+----------+----------+\n",
      "\n"
     ]
    }
   ],
   "source": [
    "df_filled.show()"
   ]
  },
  {
   "cell_type": "code",
   "execution_count": 9,
   "id": "764b69ff-436b-497a-92fb-21ace914e09c",
   "metadata": {},
   "outputs": [
    {
     "name": "stdout",
     "output_type": "stream",
     "text": [
      "Count all:           9\n",
      "Unique PK count:     8\n",
      "PK with duplicates:  1\n",
      "\n",
      "Null values in columns - {'column': [count NULL, share NULL]}:\n",
      "{'var1': [1, 0.1111], 'var2': [1, 0.1111]}\n"
     ]
    }
   ],
   "source": [
    "DFExtender(df_filled, ['pk1', 'pk2'], verbose=True).getInfo()"
   ]
  },
  {
   "cell_type": "code",
   "execution_count": 10,
   "id": "820e8d38-2962-4e40-9424-55388a8a8753",
   "metadata": {},
   "outputs": [
    {
     "name": "stdout",
     "output_type": "stream",
     "text": [
      "Count all:           9\n",
      "PK column 'pk1' contains empty values, be careful!\n",
      "PK column 'pk2' contains empty values, be careful!\n",
      "Unique PK count:     8\n",
      "PK with duplicates:  1\n",
      "\n",
      "Null values in columns - {'column': [count NULL, share NULL]}:\n",
      "{'pk1': [2, 0.2222], 'pk2': [2, 0.2222], 'var1': [1, 0.1111], 'var2': [1, 0.1111]}\n"
     ]
    }
   ],
   "source": [
    "DFExtender(df_hive, ['pk1', 'pk2'], verbose=True).getInfo()"
   ]
  },
  {
   "cell_type": "code",
   "execution_count": 11,
   "id": "d5bcde33-f8ec-40b1-949f-93e6c921d9de",
   "metadata": {},
   "outputs": [
    {
     "name": "stdout",
     "output_type": "stream",
     "text": [
      "+----+----+-----+\n",
      "| pk1| pk2|count|\n",
      "+----+----+-----+\n",
      "|null|null|    1|\n",
      "|key1|   1|    2|\n",
      "|key2|   2|    1|\n",
      "|key2|   3|    1|\n",
      "|key2|null|    1|\n",
      "|key1|   2|    1|\n",
      "|null|   4|    1|\n",
      "|key2|   4|    1|\n",
      "+----+----+-----+\n",
      "\n"
     ]
    }
   ],
   "source": [
    "df.groupBy(['pk1', 'pk2']).count().show()"
   ]
  },
  {
   "cell_type": "markdown",
   "id": "24551538-34b8-422c-a517-2fcf98a7784e",
   "metadata": {},
   "source": [
    "## SchemaManager"
   ]
  },
  {
   "cell_type": "markdown",
   "id": "ac0dcafa-9751-414f-a08d-43b9cce4628a",
   "metadata": {},
   "source": [
    "### dropping empty tables"
   ]
  },
  {
   "cell_type": "code",
   "execution_count": 7,
   "id": "e680e417-3e61-4615-a855-9b91fcc95e72",
   "metadata": {},
   "outputs": [
    {
     "data": {
      "text/plain": [
       "DataFrame[]"
      ]
     },
     "execution_count": 7,
     "metadata": {},
     "output_type": "execute_result"
    }
   ],
   "source": [
    "schema_name = 'popular_schema'\n",
    "spark.sql(f\"drop database if exists {schema_name} cascade\")\n",
    "spark.sql(f'create database {schema_name}')"
   ]
  },
  {
   "cell_type": "code",
   "execution_count": 8,
   "id": "d8544bc1-11f5-4734-ae7d-fef940760aeb",
   "metadata": {},
   "outputs": [],
   "source": [
    "df_src_write.partitionBy('dt_part', 'group_part').saveAsTable(f'{schema_name}.table1')\n",
    "df_src_write.saveAsTable(f'{schema_name}.table2')\n",
    "df_src_write.saveAsTable(f'{schema_name}.table3')"
   ]
  },
  {
   "cell_type": "markdown",
   "id": "046ce783-1957-4964-843b-243aeff49fe0",
   "metadata": {},
   "source": [
    "table1 has dir + data   \n",
    "table2 has only root dir    \n",
    "table3 doesn't have any dir and data"
   ]
  },
  {
   "cell_type": "code",
   "execution_count": 9,
   "id": "dd7a039e-d00b-4a15-ac0b-d6dd80b3edee",
   "metadata": {},
   "outputs": [],
   "source": [
    "shutil.rmtree('./spark-warehouse/popular_schema.db/table2', ignore_errors=True)\n",
    "os.makedirs('./spark-warehouse/popular_schema.db/table2')\n",
    "shutil.rmtree('./spark-warehouse/popular_schema.db/table3', ignore_errors=True)"
   ]
  },
  {
   "cell_type": "code",
   "execution_count": 10,
   "id": "1bb55ebf-3739-48d7-b587-0d4d494d9746",
   "metadata": {},
   "outputs": [
    {
     "name": "stdout",
     "output_type": "stream",
     "text": [
      "+--------------+---------+-----------+\n",
      "|database      |tableName|isTemporary|\n",
      "+--------------+---------+-----------+\n",
      "|popular_schema|table1   |false      |\n",
      "|popular_schema|table2   |false      |\n",
      "|popular_schema|table3   |false      |\n",
      "+--------------+---------+-----------+\n",
      "\n"
     ]
    }
   ],
   "source": [
    "spark.sql(f\"show tables in {schema_name}\").show(10, False)"
   ]
  },
  {
   "cell_type": "code",
   "execution_count": 11,
   "id": "f293f40f-a96c-465d-b66a-ac90a3cc6b52",
   "metadata": {},
   "outputs": [
    {
     "name": "stderr",
     "output_type": "stream",
     "text": [
      "[Stage 14:>                                                         (0 + 3) / 3]\r"
     ]
    },
    {
     "name": "stdout",
     "output_type": "stream",
     "text": [
      "3 tables in popular_schema\n",
      "run drop_empty_tables() to drop empty tables in popular_schema\n"
     ]
    },
    {
     "name": "stderr",
     "output_type": "stream",
     "text": [
      "                                                                                \r"
     ]
    }
   ],
   "source": [
    "popular_schema = SchemaManager('popular_schema')"
   ]
  },
  {
   "cell_type": "code",
   "execution_count": 12,
   "id": "63446417-41ab-44e0-8b99-4d3042ffa3d7",
   "metadata": {},
   "outputs": [
    {
     "name": "stdout",
     "output_type": "stream",
     "text": [
      "2 going to be dropped out of 3 (66.67%). Schema: popular_schema\n",
      "After dropping tables there are 1 tables in popular_schema\n"
     ]
    },
    {
     "name": "stderr",
     "output_type": "stream",
     "text": [
      "22/12/16 00:44:42 ERROR FileUtils: Failed to delete file:/Users/pyro/github/HiveHelper_on_PySpark/spark-warehouse/popular_schema.db/table3\n"
     ]
    }
   ],
   "source": [
    "popular_schema.drop_empty_tables()"
   ]
  },
  {
   "cell_type": "code",
   "execution_count": 13,
   "id": "7f657d0b-94b2-4d22-97e8-8f028e74f8ed",
   "metadata": {},
   "outputs": [
    {
     "name": "stdout",
     "output_type": "stream",
     "text": [
      "+--------------+---------+-----------+\n",
      "|database      |tableName|isTemporary|\n",
      "+--------------+---------+-----------+\n",
      "|popular_schema|table1   |false      |\n",
      "+--------------+---------+-----------+\n",
      "\n"
     ]
    }
   ],
   "source": [
    "spark.sql(f\"show tables in {schema_name}\").show(10, False)"
   ]
  },
  {
   "cell_type": "markdown",
   "id": "cc9db512-0d4c-4b3f-96b8-2e3c5fd3867c",
   "metadata": {},
   "source": [
    "## Comparing tables"
   ]
  },
  {
   "cell_type": "code",
   "execution_count": null,
   "id": "96b27f14-79ca-407f-b0e8-e3278d420cc6",
   "metadata": {},
   "outputs": [],
   "source": []
  },
  {
   "cell_type": "markdown",
   "id": "684b3ecb-9834-47bc-94c8-f40fa96547a2",
   "metadata": {},
   "source": [
    "## Extra"
   ]
  },
  {
   "cell_type": "code",
   "execution_count": null,
   "id": "6af00bbc-a066-48e3-861a-91c3edcdf7b5",
   "metadata": {},
   "outputs": [],
   "source": []
  },
  {
   "cell_type": "markdown",
   "id": "cdd0263d-7f7e-453f-b164-7b6bf9a723b6",
   "metadata": {
    "tags": []
   },
   "source": [
    "## Modification"
   ]
  },
  {
   "cell_type": "markdown",
   "id": "7a97c0be-a9f4-417e-bb02-5598fbbdaf43",
   "metadata": {},
   "source": [
    "1. read as you like, change class to DFExtender to get stats\n",
    "2. use all methods from PySpark as usual"
   ]
  }
 ],
 "metadata": {
  "kernelspec": {
   "display_name": "Python 3 (ipykernel)",
   "language": "python",
   "name": "python3"
  },
  "language_info": {
   "codemirror_mode": {
    "name": "ipython",
    "version": 3
   },
   "file_extension": ".py",
   "mimetype": "text/x-python",
   "name": "python",
   "nbconvert_exporter": "python",
   "pygments_lexer": "ipython3",
   "version": "3.10.8"
  }
 },
 "nbformat": 4,
 "nbformat_minor": 5
}
