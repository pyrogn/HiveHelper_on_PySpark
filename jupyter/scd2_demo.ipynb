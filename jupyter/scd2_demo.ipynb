{
 "cells": [
  {
   "cell_type": "code",
   "execution_count": 1,
   "id": "38bf86bc-1bef-4b68-8f6a-c08a6d91202d",
   "metadata": {},
   "outputs": [
    {
     "name": "stderr",
     "output_type": "stream",
     "text": [
      "23/07/23 23:45:40 WARN Utils: Your hostname, Pavels-MacBook-Air.local resolves to a loopback address: 127.0.0.200; using 192.168.0.103 instead (on interface en0)\n",
      "23/07/23 23:45:40 WARN Utils: Set SPARK_LOCAL_IP if you need to bind to another address\n",
      "Using Spark's default log4j profile: org/apache/spark/log4j-defaults.properties\n",
      "Setting default log level to \"WARN\".\n",
      "To adjust logging level use sc.setLogLevel(newLevel). For SparkR, use setLogLevel(newLevel).\n",
      "23/07/23 23:45:41 WARN NativeCodeLoader: Unable to load native-hadoop library for your platform... using builtin-java classes where applicable\n"
     ]
    },
    {
     "data": {
      "text/html": [
       "\n",
       "            <div>\n",
       "                <p><b>SparkSession - in-memory</b></p>\n",
       "                \n",
       "        <div>\n",
       "            <p><b>SparkContext</b></p>\n",
       "\n",
       "            <p><a href=\"http://192.168.0.103:4040\">Spark UI</a></p>\n",
       "\n",
       "            <dl>\n",
       "              <dt>Version</dt>\n",
       "                <dd><code>v3.2.1</code></dd>\n",
       "              <dt>Master</dt>\n",
       "                <dd><code>local[*]</code></dd>\n",
       "              <dt>AppName</dt>\n",
       "                <dd><code>custom_name</code></dd>\n",
       "            </dl>\n",
       "        </div>\n",
       "        \n",
       "            </div>\n",
       "        "
      ],
      "text/plain": [
       "<pyspark.sql.session.SparkSession at 0x7fba707c6e30>"
      ]
     },
     "metadata": {},
     "output_type": "display_data"
    }
   ],
   "source": [
    "from importlib import reload\n",
    "import re\n",
    "\n",
    "import pyspark\n",
    "from pyspark.sql.functions import col\n",
    "import pyspark.sql.functions as F\n",
    "import pyspark.sql.types as T\n",
    "from pyspark.sql.window import Window as W\n",
    "\n",
    "from hhop import get_spark_builder\n",
    "spark_builder = get_spark_builder('custom_name'); \n",
    "spark = spark_builder.getOrCreate(); sc = spark.sparkContext; sc.setLogLevel(\"ERROR\")\n",
    "\n",
    "from hhop import DFExtender, SchemaManager, TablePartitionDescriber, SCD2Helper #main classes\n",
    "from hhop import read_table, write_table, write_read_table, union_all, deduplicate_df, get_table_location # useful functions\n",
    "from hhop import HhopException\n",
    "display(spark)"
   ]
  },
  {
   "cell_type": "markdown",
   "id": "e1ba9c62",
   "metadata": {},
   "source": [
    "## to_scd2"
   ]
  },
  {
   "cell_type": "code",
   "execution_count": 2,
   "id": "dad81453-9c1c-4d6b-acdf-66f8844858c1",
   "metadata": {},
   "outputs": [],
   "source": [
    "df1_transactions = spark.read.csv('../hhop/scd2_data/to_scd2.csv', sep=';', header=True)"
   ]
  },
  {
   "cell_type": "code",
   "execution_count": 3,
   "id": "841167a2",
   "metadata": {},
   "outputs": [],
   "source": [
    "# DFExtender(df1_transactions, pk=['pk1'])"
   ]
  },
  {
   "cell_type": "code",
   "execution_count": 4,
   "id": "cc7b6998",
   "metadata": {},
   "outputs": [],
   "source": [
    "df1_transactions = df1_transactions.withColumnRenamed('pk1', 'PK1')"
   ]
  },
  {
   "cell_type": "code",
   "execution_count": 5,
   "id": "58cca8af",
   "metadata": {},
   "outputs": [
    {
     "name": "stdout",
     "output_type": "stream",
     "text": [
      "root\n",
      " |-- PK1: string (nullable = true)\n",
      " |-- pk2: string (nullable = true)\n",
      " |-- nonpk1: string (nullable = true)\n",
      " |-- nonpk2: string (nullable = true)\n",
      " |-- nonpk3: string (nullable = true)\n",
      " |-- nonpk_extra: string (nullable = true)\n",
      " |-- ts: string (nullable = true)\n",
      "\n"
     ]
    }
   ],
   "source": [
    "df1_transactions.printSchema()"
   ]
  },
  {
   "cell_type": "code",
   "execution_count": 6,
   "id": "dfeb511b",
   "metadata": {},
   "outputs": [],
   "source": [
    "\n",
    "# c = DFColCleaner(df1_transactions, PK=['pK2'], s=['nonpK3', 'pk1'])\n",
    "# df1 = c.mass_rename('_asdf', True, group_cols_include=['all'], group_cols_exclude=['pK'])\n",
    "# c1 = DFCleaner(df1, PK=['pK1'], s=['nonpK3_asdf'])\n",
    "# c1.mass_rename('_asdf', False, group_cols_include=['all'])\n",
    "# c.get_columns_from_groups(['pk'])\n",
    "# print(c.group_cols)\n",
    "# c.is_cols_subset(['pk3'], ['all'])"
   ]
  },
  {
   "cell_type": "code",
   "execution_count": 7,
   "id": "ed2e6531-2c80-4690-888e-61eb292d3b0c",
   "metadata": {},
   "outputs": [
    {
     "name": "stdout",
     "output_type": "stream",
     "text": [
      "+---+----+------+------+------+-----------+-------------------+\n",
      "|PK1|pk2 |nonpk1|nonpk2|nonpk3|nonpk_extra|ts                 |\n",
      "+---+----+------+------+------+-----------+-------------------+\n",
      "|v1 |null|null  |null  |c2    |r3         |2023-05-07 15:00:00|\n",
      "|v1 |null|null  |null  |null  |null       |2023-05-10 15:00:00|\n",
      "|v1 |null|null  |fds   |null  |null       |2023-05-11 15:00:00|\n",
      "|v1 |null|null  |fds   |asdf  |null       |2023-05-12 15:00:00|\n",
      "|v1 |c1  |a1    |b1    |c1    |r1         |2023-05-01 10:00:00|\n",
      "|v1 |c1  |a1    |b1    |c1    |r2         |2023-05-01 12:00:00|\n",
      "|v1 |c1  |a1    |b1    |c1    |r3         |2023-05-02 12:00:00|\n",
      "|v1 |c1  |a1    |b1    |c2    |null       |2023-05-03 12:00:00|\n",
      "|v1 |c1  |a1    |b2    |c2    |null       |2023-05-03 15:00:00|\n",
      "|v1 |c1  |null  |b2    |c2    |r3         |2023-05-05 15:00:00|\n",
      "|v1 |c1  |null  |b2    |c2    |r3         |2023-05-06 15:00:00|\n",
      "|v1 |c1  |null  |null  |c2    |r3         |2023-05-07 15:00:00|\n",
      "|v1 |c1  |null  |null  |null  |null       |2023-05-10 15:00:00|\n",
      "|v1 |c1  |null  |null  |c2    |r3         |2023-05-13 15:00:00|\n",
      "+---+----+------+------+------+-----------+-------------------+\n",
      "\n"
     ]
    }
   ],
   "source": [
    "df1_transactions.orderBy(['pk1', 'pk2', 'ts']).show(100, False)"
   ]
  },
  {
   "cell_type": "code",
   "execution_count": 8,
   "id": "c4bdda07",
   "metadata": {},
   "outputs": [],
   "source": [
    "import hhop\n",
    "reload(hhop)\n",
    "reload(hhop.hhop)\n",
    "reload(hhop.hhop.main)\n",
    "import hhop\n",
    "reload(hhop)\n",
    "reload(hhop.hhop)\n",
    "reload(hhop.hhop.main)\n",
    "from hhop import SCD2Helper"
   ]
  },
  {
   "cell_type": "code",
   "execution_count": 9,
   "id": "3993c57c",
   "metadata": {},
   "outputs": [],
   "source": [
    "df1_transactions_s = SCD2Helper(\n",
    "    df1_transactions, \n",
    "    pk=['pk1', 'pk2'], \n",
    "    non_pk=['nonpk1', 'nonpk2', 'nonpk3'],\n",
    "    time_col='ts',\n",
    ")"
   ]
  },
  {
   "cell_type": "code",
   "execution_count": null,
   "id": "b36df806",
   "metadata": {},
   "outputs": [],
   "source": []
  },
  {
   "cell_type": "code",
   "execution_count": 10,
   "id": "3e84d603",
   "metadata": {},
   "outputs": [],
   "source": [
    "df1_scd2 = df1_transactions_s.df_to_scd2().cache()"
   ]
  },
  {
   "cell_type": "code",
   "execution_count": 11,
   "id": "0fa43c3c",
   "metadata": {},
   "outputs": [
    {
     "name": "stdout",
     "output_type": "stream",
     "text": [
      "+---+----+------+------+------+-----------+-------------------+--------------------------------+---------------+-------------+\n",
      "|pk1|pk2 |nonpk1|nonpk2|nonpk3|nonpk_extra|ts                 |row_hash                        |row_actual_from|row_actual_to|\n",
      "+---+----+------+------+------+-----------+-------------------+--------------------------------+---------------+-------------+\n",
      "|v1 |null|null  |null  |c2    |r3         |2023-05-07 15:00:00|56e6807f4b745e20dffeb1b731e5a6d4|2023-05-07     |2023-05-09   |\n",
      "|v1 |null|null  |null  |null  |null       |2023-05-10 15:00:00|6654c734ccab8f440ff0825eb443dc7f|2023-05-10     |2023-05-10   |\n",
      "|v1 |null|null  |fds   |null  |null       |2023-05-11 15:00:00|2d2722576095dd7996570b307d777539|2023-05-11     |2023-05-11   |\n",
      "|v1 |null|null  |fds   |asdf  |null       |2023-05-12 15:00:00|b08363345cd7c1cb14e6f4747ce1563d|2023-05-12     |9999-12-31   |\n",
      "|v1 |c1  |a1    |b1    |c1    |r1         |2023-05-01 10:00:00|93e6cc4b8b0445cf261e9417106ae6f0|2023-05-01     |2023-05-02   |\n",
      "|v1 |c1  |a1    |b2    |c2    |null       |2023-05-03 15:00:00|a6244d3c7c2aed33c4d9525fbef29c1d|2023-05-03     |2023-05-04   |\n",
      "|v1 |c1  |null  |b2    |c2    |r3         |2023-05-05 15:00:00|17f599be9e07976c2036361c9ad8f633|2023-05-05     |2023-05-06   |\n",
      "|v1 |c1  |null  |null  |c2    |r3         |2023-05-07 15:00:00|a363a9dd6d5b30865ab5813581941516|2023-05-07     |2023-05-09   |\n",
      "|v1 |c1  |null  |null  |null  |null       |2023-05-10 15:00:00|da58ea33b20d82042d9969c46c16c3b8|2023-05-10     |2023-05-12   |\n",
      "|v1 |c1  |null  |null  |c2    |r3         |2023-05-13 15:00:00|a363a9dd6d5b30865ab5813581941516|2023-05-13     |9999-12-31   |\n",
      "+---+----+------+------+------+-----------+-------------------+--------------------------------+---------------+-------------+\n",
      "\n"
     ]
    }
   ],
   "source": [
    "df1_scd2.orderBy(['pk1', 'pk2', 'ts']).show(100, False)"
   ]
  },
  {
   "cell_type": "markdown",
   "id": "8012f7bd",
   "metadata": {},
   "source": [
    "## validate_scd2"
   ]
  },
  {
   "cell_type": "code",
   "execution_count": 12,
   "id": "38c0093d",
   "metadata": {},
   "outputs": [
    {
     "name": "stdout",
     "output_type": "stream",
     "text": [
      "root\n",
      " |-- pk1: string (nullable = true)\n",
      " |-- pk2: string (nullable = true)\n",
      " |-- nonpk1: string (nullable = true)\n",
      " |-- nonpk2: string (nullable = true)\n",
      " |-- nonpk3: string (nullable = true)\n",
      " |-- nonpk_extra: string (nullable = true)\n",
      " |-- ts: string (nullable = true)\n",
      " |-- row_hash: string (nullable = false)\n",
      " |-- row_actual_from: string (nullable = true)\n",
      " |-- row_actual_to: string (nullable = false)\n",
      "\n"
     ]
    }
   ],
   "source": [
    "df1_scd2.printSchema()"
   ]
  },
  {
   "cell_type": "code",
   "execution_count": 13,
   "id": "9dd54af1",
   "metadata": {},
   "outputs": [
    {
     "name": "stdout",
     "output_type": "stream",
     "text": [
      "Number of records: 10\n",
      "All tests passed\n",
      "Errors_In_SCD2_table(duplicates_by_pk=0, invalid_dates=0, broken_history=0, duplicates_by_version=0) 0 0\n"
     ]
    }
   ],
   "source": [
    "res = df1_scd2.validate_scd2()\n",
    "print(res, res[0], res[3])"
   ]
  },
  {
   "cell_type": "code",
   "execution_count": 14,
   "id": "6aefdf25",
   "metadata": {},
   "outputs": [
    {
     "name": "stdout",
     "output_type": "stream",
     "text": [
      "There are 2 PK duplicates by ['pk1', 'pk2', 'row_actual_to'] Look at `.basic_pk_check.df_duplicates_pk`\n",
      "10 rows with invalid dates, look at `.df_invalid_dates`\n",
      "Number of records: 10\n",
      "Errors_In_SCD2_table(duplicates_by_pk=2, invalid_dates=10, broken_history=0, duplicates_by_version=0) 2 0\n"
     ]
    }
   ],
   "source": [
    "df1_scd2_wrong_copy = SCD2Helper(\n",
    "    df1_scd2.withColumn('row_actual_to', F.when(col('row_actual_to') == '9999-12-31', F.lit('1000-01-01'))), \n",
    "    pk=['pk1', 'pk2'], \n",
    "    non_pk=['nonpk1', 'nonpk2', 'nonpk3'],\n",
    "    time_col='ts',\n",
    ")\n",
    "res = df1_scd2_wrong_copy.validate_scd2()\n",
    "print(res, res[0], res[3])"
   ]
  },
  {
   "cell_type": "code",
   "execution_count": 15,
   "id": "82721640",
   "metadata": {},
   "outputs": [
    {
     "name": "stdout",
     "output_type": "stream",
     "text": [
      "+---+----+------+------+------+-----------+-------------------+--------------------+---------------+-------------+---------------+-------------+-------------------+\n",
      "|pk1| pk2|nonpk1|nonpk2|nonpk3|nonpk_extra|                 ts|            row_hash|row_actual_from|row_actual_to|valid_date_from|valid_date_to|incorrect_direction|\n",
      "+---+----+------+------+------+-----------+-------------------+--------------------+---------------+-------------+---------------+-------------+-------------------+\n",
      "| v1|  c1|    a1|    b1|    c1|         r1|2023-05-01 10:00:00|93e6cc4b8b0445cf2...|     2023-05-01|         null|           true|        false|              false|\n",
      "| v1|  c1|    a1|    b2|    c2|       null|2023-05-03 15:00:00|a6244d3c7c2aed33c...|     2023-05-03|         null|           true|        false|              false|\n",
      "| v1|  c1|  null|    b2|    c2|         r3|2023-05-05 15:00:00|17f599be9e07976c2...|     2023-05-05|         null|           true|        false|              false|\n",
      "| v1|  c1|  null|  null|    c2|         r3|2023-05-07 15:00:00|a363a9dd6d5b30865...|     2023-05-07|         null|           true|        false|              false|\n",
      "| v1|  c1|  null|  null|  null|       null|2023-05-10 15:00:00|da58ea33b20d82042...|     2023-05-10|         null|           true|        false|              false|\n",
      "| v1|  c1|  null|  null|    c2|         r3|2023-05-13 15:00:00|a363a9dd6d5b30865...|     2023-05-13|   1000-01-01|           true|         true|               true|\n",
      "| v1|null|  null|  null|    c2|         r3|2023-05-07 15:00:00|56e6807f4b745e20d...|     2023-05-07|         null|           true|        false|              false|\n",
      "| v1|null|  null|  null|  null|       null|2023-05-10 15:00:00|6654c734ccab8f440...|     2023-05-10|         null|           true|        false|              false|\n",
      "| v1|null|  null|   fds|  null|       null|2023-05-11 15:00:00|2d2722576095dd799...|     2023-05-11|         null|           true|        false|              false|\n",
      "| v1|null|  null|   fds|  asdf|       null|2023-05-12 15:00:00|b08363345cd7c1cb1...|     2023-05-12|   1000-01-01|           true|         true|               true|\n",
      "+---+----+------+------+------+-----------+-------------------+--------------------+---------------+-------------+---------------+-------------+-------------------+\n",
      "\n"
     ]
    }
   ],
   "source": [
    "df1_scd2_wrong_copy.df_invalid_dates.show()"
   ]
  },
  {
   "cell_type": "code",
   "execution_count": 16,
   "id": "96821dd0",
   "metadata": {},
   "outputs": [],
   "source": [
    "import hhop\n",
    "reload(hhop)\n",
    "reload(hhop.hhop)\n",
    "reload(hhop.hhop.main)\n",
    "import hhop\n",
    "reload(hhop)\n",
    "reload(hhop.hhop)\n",
    "reload(hhop.hhop.main)\n",
    "from hhop import SCD2Helper"
   ]
  },
  {
   "cell_type": "markdown",
   "id": "a45e9c61",
   "metadata": {},
   "source": [
    "## Fill history"
   ]
  },
  {
   "cell_type": "code",
   "execution_count": 17,
   "id": "63bb322a",
   "metadata": {},
   "outputs": [
    {
     "name": "stdout",
     "output_type": "stream",
     "text": [
      "+---+----+------+------+------+-----------+-------------------+--------------------------------+---------------+-------------+\n",
      "|pk1|pk2 |nonpk1|nonpk2|nonpk3|nonpk_extra|ts                 |row_hash                        |row_actual_from|row_actual_to|\n",
      "+---+----+------+------+------+-----------+-------------------+--------------------------------+---------------+-------------+\n",
      "|v1 |c1  |a1    |b1    |c1    |r1         |2023-05-01 10:00:00|93e6cc4b8b0445cf261e9417106ae6f0|2023-05-01     |2023-05-02   |\n",
      "|v1 |c1  |a1    |b2    |c2    |null       |2023-05-03 15:00:00|a6244d3c7c2aed33c4d9525fbef29c1d|2023-05-03     |2023-05-04   |\n",
      "|v1 |c1  |null  |b2    |c2    |r3         |2023-05-05 15:00:00|17f599be9e07976c2036361c9ad8f633|2023-05-05     |2023-05-06   |\n",
      "|v1 |c1  |null  |null  |c2    |r3         |2023-05-07 15:00:00|a363a9dd6d5b30865ab5813581941516|2023-05-07     |2023-05-09   |\n",
      "|v1 |c1  |null  |null  |null  |null       |2023-05-10 15:00:00|da58ea33b20d82042d9969c46c16c3b8|2023-05-10     |2023-05-12   |\n",
      "|v1 |c1  |null  |null  |c2    |r3         |2023-05-13 15:00:00|a363a9dd6d5b30865ab5813581941516|2023-05-13     |9999-12-31   |\n",
      "|v1 |null|null  |null  |c2    |r3         |2023-05-07 15:00:00|56e6807f4b745e20dffeb1b731e5a6d4|2023-05-07     |2023-05-09   |\n",
      "|v1 |null|null  |null  |null  |null       |2023-05-10 15:00:00|6654c734ccab8f440ff0825eb443dc7f|2023-05-10     |2023-05-10   |\n",
      "|v1 |null|null  |fds   |null  |null       |2023-05-11 15:00:00|2d2722576095dd7996570b307d777539|2023-05-11     |2023-05-11   |\n",
      "|v1 |null|null  |fds   |asdf  |null       |2023-05-12 15:00:00|b08363345cd7c1cb14e6f4747ce1563d|2023-05-12     |9999-12-31   |\n",
      "+---+----+------+------+------+-----------+-------------------+--------------------------------+---------------+-------------+\n",
      "\n"
     ]
    }
   ],
   "source": [
    "df1_scd2.show(10, False)"
   ]
  },
  {
   "cell_type": "code",
   "execution_count": 18,
   "id": "066eb7d0",
   "metadata": {},
   "outputs": [],
   "source": [
    "df1_holes_in_history = df1_scd2.filter(~col('row_hash').isin(\"a363a9dd6d5b30865ab5813581941516\", 'a363a9dd6d5b30865ab5813581941516', 'a6244d3c7c2aed33c4d9525fbef29c1d'))"
   ]
  },
  {
   "cell_type": "code",
   "execution_count": 19,
   "id": "1c2eaabc",
   "metadata": {},
   "outputs": [
    {
     "name": "stdout",
     "output_type": "stream",
     "text": [
      "+---+----+------+------+------+-----------+-------------------+--------------------------------+---------------+-------------+\n",
      "|pk1|pk2 |nonpk1|nonpk2|nonpk3|nonpk_extra|ts                 |row_hash                        |row_actual_from|row_actual_to|\n",
      "+---+----+------+------+------+-----------+-------------------+--------------------------------+---------------+-------------+\n",
      "|v1 |c1  |a1    |b1    |c1    |r1         |2023-05-01 10:00:00|93e6cc4b8b0445cf261e9417106ae6f0|2023-05-01     |2023-05-02   |\n",
      "|v1 |c1  |null  |b2    |c2    |r3         |2023-05-05 15:00:00|17f599be9e07976c2036361c9ad8f633|2023-05-05     |2023-05-06   |\n",
      "|v1 |c1  |null  |null  |null  |null       |2023-05-10 15:00:00|da58ea33b20d82042d9969c46c16c3b8|2023-05-10     |2023-05-12   |\n",
      "|v1 |null|null  |null  |c2    |r3         |2023-05-07 15:00:00|56e6807f4b745e20dffeb1b731e5a6d4|2023-05-07     |2023-05-09   |\n",
      "|v1 |null|null  |null  |null  |null       |2023-05-10 15:00:00|6654c734ccab8f440ff0825eb443dc7f|2023-05-10     |2023-05-10   |\n",
      "|v1 |null|null  |fds   |null  |null       |2023-05-11 15:00:00|2d2722576095dd7996570b307d777539|2023-05-11     |2023-05-11   |\n",
      "|v1 |null|null  |fds   |asdf  |null       |2023-05-12 15:00:00|b08363345cd7c1cb14e6f4747ce1563d|2023-05-12     |9999-12-31   |\n",
      "+---+----+------+------+------+-----------+-------------------+--------------------------------+---------------+-------------+\n",
      "\n"
     ]
    }
   ],
   "source": [
    "df1_holes_in_history.show(10, False)"
   ]
  },
  {
   "cell_type": "code",
   "execution_count": 20,
   "id": "037167f1",
   "metadata": {},
   "outputs": [],
   "source": [
    "import hhop\n",
    "reload(hhop)\n",
    "reload(hhop.hhop)\n",
    "reload(hhop.hhop.main)\n",
    "import hhop\n",
    "reload(hhop)\n",
    "reload(hhop.hhop)\n",
    "reload(hhop.hhop.main)\n",
    "from hhop import SCD2Helper"
   ]
  },
  {
   "cell_type": "code",
   "execution_count": 21,
   "id": "f00aedb1",
   "metadata": {},
   "outputs": [
    {
     "name": "stdout",
     "output_type": "stream",
     "text": [
      "+---+----+------+------+------+-----------+-------------------+--------------------------------+---------------+-------------+\n",
      "|pk1|pk2 |nonpk1|nonpk2|nonpk3|nonpk_extra|ts                 |row_hash                        |row_actual_from|row_actual_to|\n",
      "+---+----+------+------+------+-----------+-------------------+--------------------------------+---------------+-------------+\n",
      "|v1 |c1  |a1    |b1    |c1    |r1         |2023-05-01 10:00:00|93e6cc4b8b0445cf261e9417106ae6f0|2023-05-01     |2023-05-02   |\n",
      "|v1 |c1  |null  |b2    |c2    |r3         |2023-05-05 15:00:00|17f599be9e07976c2036361c9ad8f633|2023-05-05     |2023-05-06   |\n",
      "|v1 |c1  |null  |null  |null  |null       |2023-05-10 15:00:00|da58ea33b20d82042d9969c46c16c3b8|2023-05-10     |2023-05-12   |\n",
      "|v1 |null|null  |null  |c2    |r3         |2023-05-07 15:00:00|56e6807f4b745e20dffeb1b731e5a6d4|2023-05-07     |2023-05-09   |\n",
      "|v1 |null|null  |null  |null  |null       |2023-05-10 15:00:00|6654c734ccab8f440ff0825eb443dc7f|2023-05-10     |2023-05-10   |\n",
      "|v1 |null|null  |fds   |null  |null       |2023-05-11 15:00:00|2d2722576095dd7996570b307d777539|2023-05-11     |2023-05-11   |\n",
      "|v1 |null|null  |fds   |asdf  |null       |2023-05-12 15:00:00|b08363345cd7c1cb14e6f4747ce1563d|2023-05-12     |9999-12-31   |\n",
      "+---+----+------+------+------+-----------+-------------------+--------------------------------+---------------+-------------+\n",
      "\n"
     ]
    }
   ],
   "source": [
    "df1_scd2_add_more_holes = SCD2Helper(\n",
    "    df1_holes_in_history,\n",
    "    pk=['pk1', 'pk2'], \n",
    "    non_pk=['nonpk1', 'nonpk2', 'nonpk3'],\n",
    ")\n",
    "df1_scd2_add_more_holes.show(10, False)"
   ]
  },
  {
   "cell_type": "code",
   "execution_count": 22,
   "id": "921bafee",
   "metadata": {},
   "outputs": [
    {
     "name": "stdout",
     "output_type": "stream",
     "text": [
      "+---+----+------+------+------+-----------+-------------------+--------------------------------+---------------+-------------+\n",
      "|pk1|pk2 |nonpk1|nonpk2|nonpk3|nonpk_extra|ts                 |row_hash                        |row_actual_from|row_actual_to|\n",
      "+---+----+------+------+------+-----------+-------------------+--------------------------------+---------------+-------------+\n",
      "|v1 |null|null  |null  |null  |null       |null               |56e6807f4b745e20dffeb1b731e5a6d4|1000-01-01     |2023-05-06   |\n",
      "|v1 |null|null  |null  |c2    |r3         |2023-05-07 15:00:00|56e6807f4b745e20dffeb1b731e5a6d4|2023-05-07     |2023-05-09   |\n",
      "|v1 |null|null  |null  |null  |null       |2023-05-10 15:00:00|6654c734ccab8f440ff0825eb443dc7f|2023-05-10     |2023-05-10   |\n",
      "|v1 |null|null  |fds   |null  |null       |2023-05-11 15:00:00|2d2722576095dd7996570b307d777539|2023-05-11     |2023-05-11   |\n",
      "|v1 |null|null  |fds   |asdf  |null       |2023-05-12 15:00:00|b08363345cd7c1cb14e6f4747ce1563d|2023-05-12     |9999-12-31   |\n",
      "|v1 |c1  |null  |null  |null  |null       |null               |93e6cc4b8b0445cf261e9417106ae6f0|1000-01-01     |2023-04-30   |\n",
      "|v1 |c1  |a1    |b1    |c1    |r1         |2023-05-01 10:00:00|93e6cc4b8b0445cf261e9417106ae6f0|2023-05-01     |2023-05-02   |\n",
      "|v1 |c1  |null  |null  |null  |null       |null               |17f599be9e07976c2036361c9ad8f633|2023-05-03     |2023-05-04   |\n",
      "|v1 |c1  |null  |b2    |c2    |r3         |2023-05-05 15:00:00|17f599be9e07976c2036361c9ad8f633|2023-05-05     |2023-05-06   |\n",
      "|v1 |c1  |null  |null  |null  |null       |null               |da58ea33b20d82042d9969c46c16c3b8|2023-05-07     |2023-05-09   |\n",
      "|v1 |c1  |null  |null  |null  |null       |2023-05-10 15:00:00|da58ea33b20d82042d9969c46c16c3b8|2023-05-10     |2023-05-12   |\n",
      "|v1 |c1  |null  |null  |null  |null       |null               |da58ea33b20d82042d9969c46c16c3b8|2023-05-13     |9999-12-31   |\n",
      "+---+----+------+------+------+-----------+-------------------+--------------------------------+---------------+-------------+\n",
      "\n"
     ]
    }
   ],
   "source": [
    "df1_filled_history = df1_scd2_add_more_holes.fill_scd2_history()\n",
    "df1_filled_history.orderBy(['pk1', 'pk2', 'row_actual_from']).show(100, False)"
   ]
  },
  {
   "cell_type": "code",
   "execution_count": 23,
   "id": "57cfd15f",
   "metadata": {},
   "outputs": [
    {
     "name": "stdout",
     "output_type": "stream",
     "text": [
      "There are 1 PK duplicates by ['pk1', 'pk2', 'version_num'] Look at `.pk_by_version.df_duplicates_pk`\n",
      "Number of records: 12\n"
     ]
    },
    {
     "data": {
      "text/plain": [
       "Errors_In_SCD2_table(duplicates_by_pk=0, invalid_dates=0, broken_history=0, duplicates_by_version=1)"
      ]
     },
     "execution_count": 23,
     "metadata": {},
     "output_type": "execute_result"
    }
   ],
   "source": [
    "df1_filled_history.validate_scd2()"
   ]
  },
  {
   "cell_type": "code",
   "execution_count": 24,
   "id": "6b5aa28f",
   "metadata": {},
   "outputs": [
    {
     "name": "stdout",
     "output_type": "stream",
     "text": [
      "+---+---+------+------+------+-----------+-------------------+--------------------+---------------+-------------+-----------+-----------------------+-----------+------+\n",
      "|pk1|pk2|nonpk1|nonpk2|nonpk3|nonpk_extra|                 ts|            row_hash|row_actual_from|row_actual_to|previous_to|diff_with_previous_hash|version_num|cnt_pk|\n",
      "+---+---+------+------+------+-----------+-------------------+--------------------+---------------+-------------+-----------+-----------------------+-----------+------+\n",
      "| v1| c1|  null|  null|  null|       null|               null|da58ea33b20d82042...|     2023-05-07|   2023-05-09| 2023-05-06|                   true|          4|     3|\n",
      "| v1| c1|  null|  null|  null|       null|2023-05-10 15:00:00|da58ea33b20d82042...|     2023-05-10|   2023-05-12| 2023-05-09|                  false|          4|     3|\n",
      "| v1| c1|  null|  null|  null|       null|               null|da58ea33b20d82042...|     2023-05-13|   9999-12-31| 2023-05-12|                  false|          4|     3|\n",
      "+---+---+------+------+------+-----------+-------------------+--------------------+---------------+-------------+-----------+-----------------------+-----------+------+\n",
      "\n"
     ]
    }
   ],
   "source": [
    "df1_filled_history.pk_by_version.df_duplicates_pk.show()"
   ]
  },
  {
   "cell_type": "markdown",
   "id": "74bcdbde",
   "metadata": {},
   "source": [
    "## merge scd2 history"
   ]
  },
  {
   "cell_type": "code",
   "execution_count": 25,
   "id": "e8b2fd00",
   "metadata": {},
   "outputs": [],
   "source": [
    "import hhop\n",
    "reload(hhop)\n",
    "reload(hhop.hhop)\n",
    "reload(hhop.hhop.main)\n",
    "import hhop\n",
    "reload(hhop)\n",
    "reload(hhop.hhop)\n",
    "reload(hhop.hhop.main)\n",
    "from hhop import SCD2Helper"
   ]
  },
  {
   "cell_type": "code",
   "execution_count": 26,
   "id": "8209bf7d",
   "metadata": {},
   "outputs": [],
   "source": [
    "df1_scd2_fewer_non_pk = SCD2Helper(\n",
    "    df1_scd2,\n",
    "    pk=['pk1', 'pk2'], \n",
    "    non_pk=['nonpk2'],\n",
    ")"
   ]
  },
  {
   "cell_type": "code",
   "execution_count": 27,
   "id": "67de5eda",
   "metadata": {},
   "outputs": [],
   "source": [
    "df1_merged_history = df1_scd2_fewer_non_pk.merge_scd2_history().cache()"
   ]
  },
  {
   "cell_type": "code",
   "execution_count": 28,
   "id": "76596606",
   "metadata": {},
   "outputs": [
    {
     "name": "stdout",
     "output_type": "stream",
     "text": [
      "+---+----+------+------+------+-----------+-------------------+--------------------------------+---------------+-------------+\n",
      "|pk1|pk2 |nonpk1|nonpk2|nonpk3|nonpk_extra|ts                 |row_hash                        |row_actual_from|row_actual_to|\n",
      "+---+----+------+------+------+-----------+-------------------+--------------------------------+---------------+-------------+\n",
      "|v1 |null|null  |null  |c2    |r3         |2023-05-07 15:00:00|56e6807f4b745e20dffeb1b731e5a6d4|2023-05-07     |2023-05-09   |\n",
      "|v1 |null|null  |null  |null  |null       |2023-05-10 15:00:00|6654c734ccab8f440ff0825eb443dc7f|2023-05-10     |2023-05-10   |\n",
      "|v1 |null|null  |fds   |null  |null       |2023-05-11 15:00:00|2d2722576095dd7996570b307d777539|2023-05-11     |2023-05-11   |\n",
      "|v1 |null|null  |fds   |asdf  |null       |2023-05-12 15:00:00|b08363345cd7c1cb14e6f4747ce1563d|2023-05-12     |9999-12-31   |\n",
      "|v1 |c1  |a1    |b1    |c1    |r1         |2023-05-01 10:00:00|93e6cc4b8b0445cf261e9417106ae6f0|2023-05-01     |2023-05-02   |\n",
      "|v1 |c1  |a1    |b2    |c2    |null       |2023-05-03 15:00:00|a6244d3c7c2aed33c4d9525fbef29c1d|2023-05-03     |2023-05-04   |\n",
      "|v1 |c1  |null  |b2    |c2    |r3         |2023-05-05 15:00:00|17f599be9e07976c2036361c9ad8f633|2023-05-05     |2023-05-06   |\n",
      "|v1 |c1  |null  |null  |c2    |r3         |2023-05-07 15:00:00|a363a9dd6d5b30865ab5813581941516|2023-05-07     |2023-05-09   |\n",
      "|v1 |c1  |null  |null  |null  |null       |2023-05-10 15:00:00|da58ea33b20d82042d9969c46c16c3b8|2023-05-10     |2023-05-12   |\n",
      "|v1 |c1  |null  |null  |c2    |r3         |2023-05-13 15:00:00|a363a9dd6d5b30865ab5813581941516|2023-05-13     |9999-12-31   |\n",
      "+---+----+------+------+------+-----------+-------------------+--------------------------------+---------------+-------------+\n",
      "\n"
     ]
    }
   ],
   "source": [
    "df1_scd2.orderBy('pk1', 'pk2', 'row_actual_from').show(10, False)"
   ]
  },
  {
   "cell_type": "code",
   "execution_count": 29,
   "id": "cc816916",
   "metadata": {},
   "outputs": [
    {
     "name": "stdout",
     "output_type": "stream",
     "text": [
      "+---+----+------+------+------+-----------+-------------------+--------------------------------+---------------+-------------+\n",
      "|pk1|pk2 |nonpk1|nonpk2|nonpk3|nonpk_extra|ts                 |row_hash                        |row_actual_from|row_actual_to|\n",
      "+---+----+------+------+------+-----------+-------------------+--------------------------------+---------------+-------------+\n",
      "|v1 |null|null  |null  |c2    |r3         |2023-05-07 15:00:00|6654c734ccab8f440ff0825eb443dc7f|2023-05-07     |2023-05-10   |\n",
      "|v1 |null|null  |fds   |null  |null       |2023-05-11 15:00:00|2d2722576095dd7996570b307d777539|2023-05-11     |9999-12-31   |\n",
      "|v1 |c1  |a1    |b1    |c1    |r1         |2023-05-01 10:00:00|096c3c37214aa93e8c988eddef82cf00|2023-05-01     |2023-05-02   |\n",
      "|v1 |c1  |a1    |b2    |c2    |null       |2023-05-03 15:00:00|e3a0efcb4f913e410841e9a50cc55b0b|2023-05-03     |2023-05-06   |\n",
      "|v1 |c1  |null  |null  |c2    |r3         |2023-05-07 15:00:00|da58ea33b20d82042d9969c46c16c3b8|2023-05-07     |9999-12-31   |\n",
      "+---+----+------+------+------+-----------+-------------------+--------------------------------+---------------+-------------+\n",
      "\n"
     ]
    }
   ],
   "source": [
    "df1_merged_history.orderBy('pk1', 'pk2', 'row_actual_from').show(10, False)"
   ]
  },
  {
   "cell_type": "markdown",
   "id": "38a9c95c",
   "metadata": {},
   "source": [
    "## join scd2 tables"
   ]
  },
  {
   "cell_type": "code",
   "execution_count": 30,
   "id": "35dde350-b242-495f-866a-fcc20fb47a81",
   "metadata": {},
   "outputs": [],
   "source": [
    "df1, df2 = [spark.read.csv(f'../hhop/scd2_data/df_scd2_join_{i}.csv', sep=';', header=True) for i in range(1, 3)]"
   ]
  },
  {
   "cell_type": "code",
   "execution_count": 31,
   "id": "1790de5c",
   "metadata": {},
   "outputs": [
    {
     "name": "stdout",
     "output_type": "stream",
     "text": [
      "+---+---+--------+-------------------+\n",
      "|pk1|pk2|email_id|ts                 |\n",
      "+---+---+--------+-------------------+\n",
      "|v1 |c1 |e1      |2023-05-01 10:00:00|\n",
      "|v1 |c1 |e2      |2023-05-04 12:00:00|\n",
      "|v1 |c1 |e3      |2023-05-10 12:00:00|\n",
      "|v1 |c1 |e1      |2023-05-12 12:00:00|\n",
      "|v1 |c2 |e1      |2023-05-01 10:00:00|\n",
      "|v1 |c3 |e2      |2023-05-04 12:00:00|\n",
      "|v1 |c3 |e3      |2023-05-10 12:00:00|\n",
      "|v1 |c3 |e1      |2023-05-12 12:00:00|\n",
      "+---+---+--------+-------------------+\n",
      "\n"
     ]
    }
   ],
   "source": [
    "df1.show(10, False)"
   ]
  },
  {
   "cell_type": "code",
   "execution_count": 32,
   "id": "e43ae19a-c9fc-4025-8abb-626b2d5da4a5",
   "metadata": {},
   "outputs": [
    {
     "name": "stdout",
     "output_type": "stream",
     "text": [
      "+---+---+--------+-------------------+\n",
      "|pk1|pk2|phone_id|ts                 |\n",
      "+---+---+--------+-------------------+\n",
      "|v1 |c1 |e1      |2023-04-01 10:00:00|\n",
      "|v1 |c1 |e2      |2023-05-06 12:00:00|\n",
      "|v1 |c1 |e3      |2023-05-12 12:00:00|\n",
      "|v1 |c1 |e1      |2023-05-13 12:00:00|\n",
      "|v1 |c2 |e1      |2023-04-01 10:00:00|\n",
      "|v1 |c2 |e2      |2023-05-06 12:00:00|\n",
      "|v1 |c2 |e3      |2023-05-12 12:00:00|\n",
      "|v1 |c2 |e1      |2023-05-13 12:00:00|\n",
      "+---+---+--------+-------------------+\n",
      "\n"
     ]
    }
   ],
   "source": [
    "df2.show(10, False)"
   ]
  },
  {
   "cell_type": "code",
   "execution_count": 33,
   "id": "d2f67671-94d3-4575-8176-2d8e37dcc021",
   "metadata": {},
   "outputs": [],
   "source": [
    "df1_scd2_j, df2_scd2_j = [SCD2Helper(df, ['pk1', 'pk2'], [non_pk_col], 'ts').df_to_scd2().cache() for df, non_pk_col in zip((df1, df2), ('email_id', 'phone_id'))]\n",
    "df1_scd2_j, df2_scd2_j = [SCD2Helper(df.drop('ts'), ['pk1', 'pk2'], [non_pk_col], 'ts') for df, non_pk_col in zip((df1_scd2_j, df2_scd2_j),('email_id', 'phone_id'))]"
   ]
  },
  {
   "cell_type": "code",
   "execution_count": 34,
   "id": "74157139",
   "metadata": {},
   "outputs": [
    {
     "name": "stdout",
     "output_type": "stream",
     "text": [
      "+---+---+--------+--------------------+---------------+-------------+\n",
      "|pk1|pk2|email_id|            row_hash|row_actual_from|row_actual_to|\n",
      "+---+---+--------+--------------------+---------------+-------------+\n",
      "| v1| c1|      e1|e14f0e80db49cd150...|     2023-05-01|   2023-05-03|\n",
      "| v1| c1|      e2|9862c1fb9265b0369...|     2023-05-04|   2023-05-09|\n",
      "| v1| c1|      e3|543b4e1fe15d3cd37...|     2023-05-10|   2023-05-11|\n",
      "| v1| c1|      e1|e14f0e80db49cd150...|     2023-05-12|   9999-12-31|\n",
      "| v1| c3|      e2|5f5d71094a0572ea7...|     2023-05-04|   2023-05-09|\n",
      "| v1| c3|      e3|9743390e49e720967...|     2023-05-10|   2023-05-11|\n",
      "| v1| c3|      e1|796f048cc1ff82db2...|     2023-05-12|   9999-12-31|\n",
      "| v1| c2|      e1|db078b8d7b629e8c3...|     2023-05-01|   9999-12-31|\n",
      "+---+---+--------+--------------------+---------------+-------------+\n",
      "\n"
     ]
    }
   ],
   "source": [
    "df1_scd2_j.show(10)"
   ]
  },
  {
   "cell_type": "code",
   "execution_count": 35,
   "id": "8b0ac168-a2d1-40ef-a79f-abc0e783f815",
   "metadata": {},
   "outputs": [
    {
     "name": "stdout",
     "output_type": "stream",
     "text": [
      "+---+---+--------+--------------------------------+---------------+-------------+\n",
      "|pk1|pk2|phone_id|row_hash                        |row_actual_from|row_actual_to|\n",
      "+---+---+--------+--------------------------------+---------------+-------------+\n",
      "|v1 |c1 |e1      |e14f0e80db49cd1501de87adf05f6022|2023-04-01     |2023-05-05   |\n",
      "|v1 |c1 |e2      |9862c1fb9265b03695dc9a727406c43e|2023-05-06     |2023-05-11   |\n",
      "|v1 |c1 |e3      |543b4e1fe15d3cd37fc7b9454156f4e1|2023-05-12     |2023-05-12   |\n",
      "|v1 |c1 |e1      |e14f0e80db49cd1501de87adf05f6022|2023-05-13     |9999-12-31   |\n",
      "|v1 |c2 |e1      |db078b8d7b629e8c3e11aeaf24952480|2023-04-01     |2023-05-05   |\n",
      "|v1 |c2 |e2      |284ed4afc0045d818e840896714656ca|2023-05-06     |2023-05-11   |\n",
      "|v1 |c2 |e3      |87795052bb06129a6007a0dfaad2efef|2023-05-12     |2023-05-12   |\n",
      "|v1 |c2 |e1      |db078b8d7b629e8c3e11aeaf24952480|2023-05-13     |9999-12-31   |\n",
      "+---+---+--------+--------------------------------+---------------+-------------+\n",
      "\n"
     ]
    }
   ],
   "source": [
    "df2_scd2_j.show(100, False)"
   ]
  },
  {
   "cell_type": "code",
   "execution_count": 36,
   "id": "2f1e8f6e",
   "metadata": {},
   "outputs": [
    {
     "name": "stdout",
     "output_type": "stream",
     "text": [
      "+---+---+--------+--------+---------------+-------------+\n",
      "|pk1|pk2|email_id|phone_id|row_actual_from|row_actual_to|\n",
      "+---+---+--------+--------+---------------+-------------+\n",
      "|v1 |c1 |e1      |e1      |2023-05-01     |2023-05-03   |\n",
      "|v1 |c1 |e2      |e1      |2023-05-04     |2023-05-05   |\n",
      "|v1 |c1 |e2      |e2      |2023-05-06     |2023-05-09   |\n",
      "|v1 |c1 |e3      |e2      |2023-05-10     |2023-05-11   |\n",
      "|v1 |c1 |e1      |e3      |2023-05-12     |2023-05-12   |\n",
      "|v1 |c1 |e1      |e1      |2023-05-13     |9999-12-31   |\n",
      "|v1 |c2 |e1      |e1      |2023-05-01     |2023-05-05   |\n",
      "|v1 |c2 |e1      |e2      |2023-05-06     |2023-05-11   |\n",
      "|v1 |c2 |e1      |e3      |2023-05-12     |2023-05-12   |\n",
      "|v1 |c2 |e1      |e1      |2023-05-13     |9999-12-31   |\n",
      "|v1 |c3 |e2      |null    |2023-05-04     |2023-05-09   |\n",
      "|v1 |c3 |e3      |null    |2023-05-10     |2023-05-11   |\n",
      "|v1 |c3 |e1      |null    |2023-05-12     |9999-12-31   |\n",
      "+---+---+--------+--------+---------------+-------------+\n",
      "\n"
     ]
    }
   ],
   "source": [
    "df1_scd2_j.join_scd2(df2_scd2_j).orderBy('pk1', 'pk2', 'row_actual_from').show(100, False)"
   ]
  },
  {
   "cell_type": "markdown",
   "id": "0d51cf45",
   "metadata": {},
   "source": [
    "join with filled history, however I recommend to cache or write this dataframes to HDFS if they are too large"
   ]
  },
  {
   "cell_type": "code",
   "execution_count": 73,
   "id": "1ec98ffb",
   "metadata": {},
   "outputs": [
    {
     "name": "stdout",
     "output_type": "stream",
     "text": [
      "+---+---+--------+--------+---------------+-------------+\n",
      "|pk1|pk2|email_id|phone_id|row_actual_from|row_actual_to|\n",
      "+---+---+--------+--------+---------------+-------------+\n",
      "|v1 |c1 |null    |null    |1000-01-01     |2023-03-31   |\n",
      "|v1 |c1 |null    |e1      |2023-04-01     |2023-04-30   |\n",
      "|v1 |c1 |e1      |e1      |2023-05-01     |2023-05-03   |\n",
      "|v1 |c1 |e2      |e1      |2023-05-04     |2023-05-05   |\n",
      "|v1 |c1 |e2      |e2      |2023-05-06     |2023-05-09   |\n",
      "|v1 |c1 |e3      |e2      |2023-05-10     |2023-05-11   |\n",
      "|v1 |c1 |e1      |e3      |2023-05-12     |2023-05-12   |\n",
      "|v1 |c1 |e1      |e1      |2023-05-13     |9999-12-31   |\n",
      "|v1 |c2 |null    |null    |1000-01-01     |2023-03-31   |\n",
      "|v1 |c2 |null    |e1      |2023-04-01     |2023-04-30   |\n",
      "|v1 |c2 |e1      |e1      |2023-05-01     |2023-05-05   |\n",
      "|v1 |c2 |e1      |e2      |2023-05-06     |2023-05-11   |\n",
      "|v1 |c2 |e1      |e3      |2023-05-12     |2023-05-12   |\n",
      "|v1 |c2 |e1      |e1      |2023-05-13     |9999-12-31   |\n",
      "|v1 |c3 |null    |null    |1000-01-01     |2023-05-03   |\n",
      "|v1 |c3 |e2      |null    |2023-05-04     |2023-05-09   |\n",
      "|v1 |c3 |e3      |null    |2023-05-10     |2023-05-11   |\n",
      "|v1 |c3 |e1      |null    |2023-05-12     |9999-12-31   |\n",
      "+---+---+--------+--------+---------------+-------------+\n",
      "\n"
     ]
    }
   ],
   "source": [
    "df1_scd2_j.fill_scd2_history().join_scd2(df2_scd2_j.fill_scd2_history()).orderBy('pk1', 'pk2', 'row_actual_from').show(100, False)"
   ]
  },
  {
   "cell_type": "markdown",
   "id": "17cee56e",
   "metadata": {},
   "source": [
    "## merge SCD2 update"
   ]
  },
  {
   "cell_type": "code",
   "execution_count": 37,
   "id": "21bcaaa1",
   "metadata": {},
   "outputs": [],
   "source": [
    "dfv1, dfv2 = [spark.read.csv(f'../hhop/synth_data/merge_scd2_update/v{i}.csv', sep=';', header=True) for i in range(1, 3)]"
   ]
  },
  {
   "cell_type": "code",
   "execution_count": 38,
   "id": "b91bca30",
   "metadata": {},
   "outputs": [
    {
     "name": "stdout",
     "output_type": "stream",
     "text": [
      "+---+---+------+------+------+-----------+---------------+-------------+\n",
      "|pk1|pk2|nonpk1|nonpk2|nonpk3|nonpk_extra|row_actual_from|row_actual_to|\n",
      "+---+---+------+------+------+-----------+---------------+-------------+\n",
      "| v1| c0|    a1|    b1|    c1|         r1|     2023-01-01|   2023-05-01|\n",
      "| v1| c1|    a1|    b1|    c1|         r1|     2023-01-01|   2023-05-01|\n",
      "| v1| c1|    a1|    b1|    c1|         r2|     2023-05-02|   9999-12-31|\n",
      "| v1| c2|    a1|    b1|    c1|         r2|     2023-05-01|   9999-12-31|\n",
      "| v1| c3|    a1|    b1|    c1|         r2|     2023-05-01|   9999-12-31|\n",
      "+---+---+------+------+------+-----------+---------------+-------------+\n",
      "\n",
      "+---+---+------+------+------+-----------+---------------+-------------+\n",
      "|pk1|pk2|nonpk1|nonpk2|nonpk3|nonpk_extra|row_actual_from|row_actual_to|\n",
      "+---+---+------+------+------+-----------+---------------+-------------+\n",
      "| v1| c0|    a1|    b1|    c1|         r1|     2023-01-01|   2023-05-01|\n",
      "| v1| c1|    a1|    b1|    c1|         r1|     2023-01-01|   2023-05-01|\n",
      "| v1| c1|    a1|    b1|    c1|         r2|     2023-05-02|   9999-12-31|\n",
      "| v1| c2|    a1|    b1|    c1|         r2|     2023-05-01|   9999-12-31|\n",
      "| v1| c3|    a1|    b1|    c1|         r2|     2023-05-01|   9999-12-31|\n",
      "| v1| c4|    a2|    b1|    c1|         r2|     2023-05-01|   9999-12-31|\n",
      "| v1| c0|    a2|    b1|    c1|         r2|     2023-05-01|   9999-12-31|\n",
      "| v1| c1|    a2|    b1|    c1|         r2|     2023-05-02|   9999-12-31|\n",
      "| v1| c2|    a1|    b1|    c1|         r2|     2023-05-01|   9999-12-31|\n",
      "+---+---+------+------+------+-----------+---------------+-------------+\n",
      "\n"
     ]
    }
   ],
   "source": [
    "dfv1.show(), dfv2.show()\n",
    "None"
   ]
  },
  {
   "cell_type": "code",
   "execution_count": 39,
   "id": "694eabb9",
   "metadata": {},
   "outputs": [
    {
     "name": "stdout",
     "output_type": "stream",
     "text": [
      "+---+---+------+------+------+-----------+---------------+-------------+\n",
      "|pk1|pk2|nonpk1|nonpk2|nonpk3|nonpk_extra|row_actual_from|row_actual_to|\n",
      "+---+---+------+------+------+-----------+---------------+-------------+\n",
      "| v1| c4|    a2|    b1|    c1|         r2|     2023-05-01|   9999-12-31|\n",
      "| v1| c1|    a1|    b1|    c1|         r2|     2023-05-02|   9999-12-31|\n",
      "| v1| c3|    a1|    b1|    c1|         r2|     2023-05-01|   9999-12-31|\n",
      "| v1| c2|    a1|    b1|    c1|         r2|     2023-05-01|   9999-12-31|\n",
      "| v1| c0|    a2|    b1|    c1|         r2|     2023-05-01|   9999-12-31|\n",
      "+---+---+------+------+------+-----------+---------------+-------------+\n",
      "\n"
     ]
    }
   ],
   "source": [
    "dfv2_ded = deduplicate_df(dfv2, pk=['pk1', 'pk2'], order_by_cols=[F.desc('row_actual_from')]).cache()\n",
    "dfv2_ded.show()"
   ]
  },
  {
   "cell_type": "code",
   "execution_count": 60,
   "id": "6c465756",
   "metadata": {},
   "outputs": [],
   "source": [
    "import hhop\n",
    "reload(hhop)\n",
    "reload(hhop.hhop)\n",
    "reload(hhop.hhop.main)\n",
    "import hhop\n",
    "reload(hhop)\n",
    "reload(hhop.hhop)\n",
    "reload(hhop.hhop.main)\n",
    "from hhop import SCD2Helper"
   ]
  },
  {
   "cell_type": "code",
   "execution_count": 61,
   "id": "211df727",
   "metadata": {},
   "outputs": [
    {
     "name": "stdout",
     "output_type": "stream",
     "text": [
      "DF saved as default.hhop_stg_merged_scd2_60026\n"
     ]
    },
    {
     "ename": "AnalysisException",
     "evalue": "cannot resolve 'row_actual_from_1' given input columns: [spark_catalog.default.hhop_stg_merged_scd2_60026.nonpk1_1, spark_catalog.default.hhop_stg_merged_scd2_60026.nonpk1_2, spark_catalog.default.hhop_stg_merged_scd2_60026.nonpk2_1, spark_catalog.default.hhop_stg_merged_scd2_60026.nonpk2_2, spark_catalog.default.hhop_stg_merged_scd2_60026.nonpk3_1, spark_catalog.default.hhop_stg_merged_scd2_60026.nonpk3_2, spark_catalog.default.hhop_stg_merged_scd2_60026.nonpk_extra_1, spark_catalog.default.hhop_stg_merged_scd2_60026.nonpk_extra_2, spark_catalog.default.hhop_stg_merged_scd2_60026.operation_type, spark_catalog.default.hhop_stg_merged_scd2_60026.pk1, spark_catalog.default.hhop_stg_merged_scd2_60026.pk2, row_actual_from, spark_catalog.default.hhop_stg_merged_scd2_60026.row_actual_from_2, row_actual_to, spark_catalog.default.hhop_stg_merged_scd2_60026.row_actual_to_1, spark_catalog.default.hhop_stg_merged_scd2_60026.row_actual_to_2, row_hash, spark_catalog.default.hhop_stg_merged_scd2_60026.row_hash_2];\n'Project [pk1#16414, pk2#16415, nonpk1_1#16416, nonpk2_1#16417, nonpk3_1#16418, nonpk_extra_1#16419, 'row_actual_from_1, row_actual_to_1#16421, 'row_hash_1, row_hash#16485, row_actual_from#16448, row_actual_to#16466]\n+- Project [pk1#16414, pk2#16415, nonpk1_1#16416, nonpk2_1#16417, nonpk3_1#16418, nonpk_extra_1#16419, row_actual_from#16448, row_actual_to_1#16421, row_hash_1#16422 AS row_hash#16485, nonpk1_2#16423, nonpk2_2#16424, nonpk3_2#16425, nonpk_extra_2#16426, row_actual_from_2#16427, row_actual_to_2#16428, row_hash_2#16429, operation_type#16430, row_actual_to#16466]\n   +- Project [pk1#16414, pk2#16415, nonpk1_1#16416, nonpk2_1#16417, nonpk3_1#16418, nonpk_extra_1#16419, row_actual_from#16448, row_actual_to_1#16421, row_hash_1#16422, nonpk1_2#16423, nonpk2_2#16424, nonpk3_2#16425, nonpk_extra_2#16426, row_actual_from_2#16427, row_actual_to_2#16428, row_hash_2#16429, operation_type#16430, date_sub(current_date(Some(Europe/Moscow)), 1) AS row_actual_to#16466]\n      +- Project [pk1#16414, pk2#16415, nonpk1_1#16416, nonpk2_1#16417, nonpk3_1#16418, nonpk_extra_1#16419, row_actual_from_1#16420 AS row_actual_from#16448, row_actual_to_1#16421, row_hash_1#16422, nonpk1_2#16423, nonpk2_2#16424, nonpk3_2#16425, nonpk_extra_2#16426, row_actual_from_2#16427, row_actual_to_2#16428, row_hash_2#16429, operation_type#16430]\n         +- Filter (operation_type#16430 = close)\n            +- Project [pk1#16414, pk2#16415, nonpk1_1#16416, nonpk2_1#16417, nonpk3_1#16418, nonpk_extra_1#16419, row_actual_from_1#16420, row_actual_to_1#16421, row_hash_1#16422, nonpk1_2#16423, nonpk2_2#16424, nonpk3_2#16425, nonpk_extra_2#16426, row_actual_from_2#16427, row_actual_to_2#16428, row_hash_2#16429, operation_type#16430]\n               +- SubqueryAlias spark_catalog.default.hhop_stg_merged_scd2_60026\n                  +- Relation default.hhop_stg_merged_scd2_60026[pk1#16414,pk2#16415,nonpk1_1#16416,nonpk2_1#16417,nonpk3_1#16418,nonpk_extra_1#16419,row_actual_from_1#16420,row_actual_to_1#16421,row_hash_1#16422,nonpk1_2#16423,nonpk2_2#16424,nonpk3_2#16425,nonpk_extra_2#16426,row_actual_from_2#16427,row_actual_to_2#16428,row_hash_2#16429,operation_type#16430] parquet\n",
     "output_type": "error",
     "traceback": [
      "\u001b[0;31m---------------------------------------------------------------------------\u001b[0m",
      "\u001b[0;31mAnalysisException\u001b[0m                         Traceback (most recent call last)",
      "Cell \u001b[0;32mIn[61], line 1\u001b[0m\n\u001b[0;32m----> 1\u001b[0m SCD2Helper(dfv1, pk\u001b[39m=\u001b[39;49m[\u001b[39m'\u001b[39;49m\u001b[39mpk1\u001b[39;49m\u001b[39m'\u001b[39;49m, \u001b[39m'\u001b[39;49m\u001b[39mpk2\u001b[39;49m\u001b[39m'\u001b[39;49m], non_pk\u001b[39m=\u001b[39;49m[\u001b[39m'\u001b[39;49m\u001b[39mnonpk1\u001b[39;49m\u001b[39m'\u001b[39;49m, \u001b[39m'\u001b[39;49m\u001b[39mnonpk2\u001b[39;49m\u001b[39m'\u001b[39;49m, \u001b[39m'\u001b[39;49m\u001b[39mnonpk3\u001b[39;49m\u001b[39m'\u001b[39;49m])\u001b[39m.\u001b[39;49mmerge_scd2_update(dfv2_ded)\n",
      "File \u001b[0;32m~/github/HiveHelper_on_PySpark/hhop/hhop/main.py:1265\u001b[0m, in \u001b[0;36mSCD2Helper.merge_scd2_update\u001b[0;34m(self, df_new, is_deduplicate_df)\u001b[0m\n\u001b[1;32m   1255\u001b[0m \u001b[39m# drop_table is done inside write_table using flag rewrite\u001b[39;00m\n\u001b[1;32m   1256\u001b[0m df_merged \u001b[39m=\u001b[39m write_read_table(\n\u001b[1;32m   1257\u001b[0m     df_merged,\n\u001b[1;32m   1258\u001b[0m     stg_table_name,\n\u001b[0;32m   (...)\u001b[0m\n\u001b[1;32m   1261\u001b[0m     verbose\u001b[39m=\u001b[39m\u001b[39mTrue\u001b[39;00m,\n\u001b[1;32m   1262\u001b[0m )\n\u001b[1;32m   1264\u001b[0m df_close \u001b[39m=\u001b[39m (\n\u001b[0;32m-> 1265\u001b[0m     df_merged\u001b[39m.\u001b[39;49mfilter(col(\u001b[39m\"\u001b[39;49m\u001b[39moperation_type\u001b[39;49m\u001b[39m\"\u001b[39;49m) \u001b[39m==\u001b[39;49m \u001b[39m\"\u001b[39;49m\u001b[39mclose\u001b[39;49m\u001b[39m\"\u001b[39;49m)\n\u001b[1;32m   1266\u001b[0m     \u001b[39m.\u001b[39;49mwithColumnRenamed(\u001b[39m\"\u001b[39;49m\u001b[39mrow_actual_from_1\u001b[39;49m\u001b[39m\"\u001b[39;49m, \u001b[39m\"\u001b[39;49m\u001b[39mrow_actual_from\u001b[39;49m\u001b[39m\"\u001b[39;49m)\n\u001b[1;32m   1267\u001b[0m     \u001b[39m.\u001b[39;49mwithColumn(\u001b[39m\"\u001b[39;49m\u001b[39mrow_actual_to\u001b[39;49m\u001b[39m\"\u001b[39;49m, F\u001b[39m.\u001b[39;49mdate_sub(F\u001b[39m.\u001b[39;49mcurrent_date(), \u001b[39m1\u001b[39;49m))\n\u001b[1;32m   1268\u001b[0m     \u001b[39m.\u001b[39;49mwithColumnRenamed(\u001b[39m\"\u001b[39;49m\u001b[39mrow_hash_1\u001b[39;49m\u001b[39m\"\u001b[39;49m, \u001b[39m\"\u001b[39;49m\u001b[39mrow_hash\u001b[39;49m\u001b[39m\"\u001b[39;49m)\n\u001b[1;32m   1269\u001b[0m     \u001b[39m.\u001b[39;49mselect(\n\u001b[1;32m   1270\u001b[0m         \u001b[39m*\u001b[39;49m\u001b[39mself\u001b[39;49m\u001b[39m.\u001b[39;49m_pk,\n\u001b[1;32m   1271\u001b[0m         \u001b[39m*\u001b[39;49mDFColCleaner\u001b[39m.\u001b[39;49mget_columns_with_suffix(df_merged, \u001b[39m\"\u001b[39;49m\u001b[39m_1\u001b[39;49m\u001b[39m\"\u001b[39;49m),\n\u001b[1;32m   1272\u001b[0m         \u001b[39m*\u001b[39;49m\u001b[39mself\u001b[39;49m\u001b[39m.\u001b[39;49m_tech_cols_default_names,\n\u001b[1;32m   1273\u001b[0m     )\n\u001b[1;32m   1274\u001b[0m )\n\u001b[1;32m   1276\u001b[0m df_update \u001b[39m=\u001b[39m df_merged\u001b[39m.\u001b[39mfilter(\n\u001b[1;32m   1277\u001b[0m     col(\u001b[39m\"\u001b[39m\u001b[39moperation_type\u001b[39m\u001b[39m\"\u001b[39m) \u001b[39m==\u001b[39m \u001b[39m\"\u001b[39m\u001b[39mupdate\u001b[39m\u001b[39m\"\u001b[39m\n\u001b[1;32m   1278\u001b[0m )  \u001b[39m# two versions on each update\u001b[39;00m\n\u001b[1;32m   1279\u001b[0m df_update_close \u001b[39m=\u001b[39m (\n\u001b[1;32m   1280\u001b[0m     df_update\u001b[39m.\u001b[39mwithColumnRenamed(\u001b[39m\"\u001b[39m\u001b[39mrow_actual_from_1\u001b[39m\u001b[39m\"\u001b[39m, \u001b[39m\"\u001b[39m\u001b[39mrow_actual_from\u001b[39m\u001b[39m\"\u001b[39m)\n\u001b[1;32m   1281\u001b[0m     \u001b[39m.\u001b[39mwithColumn(\u001b[39m\"\u001b[39m\u001b[39mrow_actual_to\u001b[39m\u001b[39m\"\u001b[39m, F\u001b[39m.\u001b[39mdate_sub(F\u001b[39m.\u001b[39mcurrent_date(), \u001b[39m1\u001b[39m))\n\u001b[0;32m   (...)\u001b[0m\n\u001b[1;32m   1287\u001b[0m     )\n\u001b[1;32m   1288\u001b[0m )\n",
      "File \u001b[0;32m~/opt/anaconda3/envs/pyspark_clean3/lib/python3.10/site-packages/pyspark/sql/dataframe.py:1685\u001b[0m, in \u001b[0;36mDataFrame.select\u001b[0;34m(self, *cols)\u001b[0m\n\u001b[1;32m   1664\u001b[0m \u001b[39mdef\u001b[39;00m \u001b[39mselect\u001b[39m(\u001b[39mself\u001b[39m, \u001b[39m*\u001b[39mcols):\n\u001b[1;32m   1665\u001b[0m \u001b[39m    \u001b[39m\u001b[39m\"\"\"Projects a set of expressions and returns a new :class:`DataFrame`.\u001b[39;00m\n\u001b[1;32m   1666\u001b[0m \n\u001b[1;32m   1667\u001b[0m \u001b[39m    .. versionadded:: 1.3.0\u001b[39;00m\n\u001b[0;32m   (...)\u001b[0m\n\u001b[1;32m   1683\u001b[0m \u001b[39m    [Row(name='Alice', age=12), Row(name='Bob', age=15)]\u001b[39;00m\n\u001b[1;32m   1684\u001b[0m \u001b[39m    \"\"\"\u001b[39;00m\n\u001b[0;32m-> 1685\u001b[0m     jdf \u001b[39m=\u001b[39m \u001b[39mself\u001b[39;49m\u001b[39m.\u001b[39;49m_jdf\u001b[39m.\u001b[39;49mselect(\u001b[39mself\u001b[39;49m\u001b[39m.\u001b[39;49m_jcols(\u001b[39m*\u001b[39;49mcols))\n\u001b[1;32m   1686\u001b[0m     \u001b[39mreturn\u001b[39;00m DataFrame(jdf, \u001b[39mself\u001b[39m\u001b[39m.\u001b[39msql_ctx)\n",
      "File \u001b[0;32m~/opt/anaconda3/envs/pyspark_clean3/lib/python3.10/site-packages/py4j/java_gateway.py:1321\u001b[0m, in \u001b[0;36mJavaMember.__call__\u001b[0;34m(self, *args)\u001b[0m\n\u001b[1;32m   1315\u001b[0m command \u001b[39m=\u001b[39m proto\u001b[39m.\u001b[39mCALL_COMMAND_NAME \u001b[39m+\u001b[39m\\\n\u001b[1;32m   1316\u001b[0m     \u001b[39mself\u001b[39m\u001b[39m.\u001b[39mcommand_header \u001b[39m+\u001b[39m\\\n\u001b[1;32m   1317\u001b[0m     args_command \u001b[39m+\u001b[39m\\\n\u001b[1;32m   1318\u001b[0m     proto\u001b[39m.\u001b[39mEND_COMMAND_PART\n\u001b[1;32m   1320\u001b[0m answer \u001b[39m=\u001b[39m \u001b[39mself\u001b[39m\u001b[39m.\u001b[39mgateway_client\u001b[39m.\u001b[39msend_command(command)\n\u001b[0;32m-> 1321\u001b[0m return_value \u001b[39m=\u001b[39m get_return_value(\n\u001b[1;32m   1322\u001b[0m     answer, \u001b[39mself\u001b[39;49m\u001b[39m.\u001b[39;49mgateway_client, \u001b[39mself\u001b[39;49m\u001b[39m.\u001b[39;49mtarget_id, \u001b[39mself\u001b[39;49m\u001b[39m.\u001b[39;49mname)\n\u001b[1;32m   1324\u001b[0m \u001b[39mfor\u001b[39;00m temp_arg \u001b[39min\u001b[39;00m temp_args:\n\u001b[1;32m   1325\u001b[0m     temp_arg\u001b[39m.\u001b[39m_detach()\n",
      "File \u001b[0;32m~/opt/anaconda3/envs/pyspark_clean3/lib/python3.10/site-packages/pyspark/sql/utils.py:117\u001b[0m, in \u001b[0;36mcapture_sql_exception.<locals>.deco\u001b[0;34m(*a, **kw)\u001b[0m\n\u001b[1;32m    113\u001b[0m converted \u001b[39m=\u001b[39m convert_exception(e\u001b[39m.\u001b[39mjava_exception)\n\u001b[1;32m    114\u001b[0m \u001b[39mif\u001b[39;00m \u001b[39mnot\u001b[39;00m \u001b[39misinstance\u001b[39m(converted, UnknownException):\n\u001b[1;32m    115\u001b[0m     \u001b[39m# Hide where the exception came from that shows a non-Pythonic\u001b[39;00m\n\u001b[1;32m    116\u001b[0m     \u001b[39m# JVM exception message.\u001b[39;00m\n\u001b[0;32m--> 117\u001b[0m     \u001b[39mraise\u001b[39;00m converted \u001b[39mfrom\u001b[39;00m \u001b[39mNone\u001b[39;00m\n\u001b[1;32m    118\u001b[0m \u001b[39melse\u001b[39;00m:\n\u001b[1;32m    119\u001b[0m     \u001b[39mraise\u001b[39;00m\n",
      "\u001b[0;31mAnalysisException\u001b[0m: cannot resolve 'row_actual_from_1' given input columns: [spark_catalog.default.hhop_stg_merged_scd2_60026.nonpk1_1, spark_catalog.default.hhop_stg_merged_scd2_60026.nonpk1_2, spark_catalog.default.hhop_stg_merged_scd2_60026.nonpk2_1, spark_catalog.default.hhop_stg_merged_scd2_60026.nonpk2_2, spark_catalog.default.hhop_stg_merged_scd2_60026.nonpk3_1, spark_catalog.default.hhop_stg_merged_scd2_60026.nonpk3_2, spark_catalog.default.hhop_stg_merged_scd2_60026.nonpk_extra_1, spark_catalog.default.hhop_stg_merged_scd2_60026.nonpk_extra_2, spark_catalog.default.hhop_stg_merged_scd2_60026.operation_type, spark_catalog.default.hhop_stg_merged_scd2_60026.pk1, spark_catalog.default.hhop_stg_merged_scd2_60026.pk2, row_actual_from, spark_catalog.default.hhop_stg_merged_scd2_60026.row_actual_from_2, row_actual_to, spark_catalog.default.hhop_stg_merged_scd2_60026.row_actual_to_1, spark_catalog.default.hhop_stg_merged_scd2_60026.row_actual_to_2, row_hash, spark_catalog.default.hhop_stg_merged_scd2_60026.row_hash_2];\n'Project [pk1#16414, pk2#16415, nonpk1_1#16416, nonpk2_1#16417, nonpk3_1#16418, nonpk_extra_1#16419, 'row_actual_from_1, row_actual_to_1#16421, 'row_hash_1, row_hash#16485, row_actual_from#16448, row_actual_to#16466]\n+- Project [pk1#16414, pk2#16415, nonpk1_1#16416, nonpk2_1#16417, nonpk3_1#16418, nonpk_extra_1#16419, row_actual_from#16448, row_actual_to_1#16421, row_hash_1#16422 AS row_hash#16485, nonpk1_2#16423, nonpk2_2#16424, nonpk3_2#16425, nonpk_extra_2#16426, row_actual_from_2#16427, row_actual_to_2#16428, row_hash_2#16429, operation_type#16430, row_actual_to#16466]\n   +- Project [pk1#16414, pk2#16415, nonpk1_1#16416, nonpk2_1#16417, nonpk3_1#16418, nonpk_extra_1#16419, row_actual_from#16448, row_actual_to_1#16421, row_hash_1#16422, nonpk1_2#16423, nonpk2_2#16424, nonpk3_2#16425, nonpk_extra_2#16426, row_actual_from_2#16427, row_actual_to_2#16428, row_hash_2#16429, operation_type#16430, date_sub(current_date(Some(Europe/Moscow)), 1) AS row_actual_to#16466]\n      +- Project [pk1#16414, pk2#16415, nonpk1_1#16416, nonpk2_1#16417, nonpk3_1#16418, nonpk_extra_1#16419, row_actual_from_1#16420 AS row_actual_from#16448, row_actual_to_1#16421, row_hash_1#16422, nonpk1_2#16423, nonpk2_2#16424, nonpk3_2#16425, nonpk_extra_2#16426, row_actual_from_2#16427, row_actual_to_2#16428, row_hash_2#16429, operation_type#16430]\n         +- Filter (operation_type#16430 = close)\n            +- Project [pk1#16414, pk2#16415, nonpk1_1#16416, nonpk2_1#16417, nonpk3_1#16418, nonpk_extra_1#16419, row_actual_from_1#16420, row_actual_to_1#16421, row_hash_1#16422, nonpk1_2#16423, nonpk2_2#16424, nonpk3_2#16425, nonpk_extra_2#16426, row_actual_from_2#16427, row_actual_to_2#16428, row_hash_2#16429, operation_type#16430]\n               +- SubqueryAlias spark_catalog.default.hhop_stg_merged_scd2_60026\n                  +- Relation default.hhop_stg_merged_scd2_60026[pk1#16414,pk2#16415,nonpk1_1#16416,nonpk2_1#16417,nonpk3_1#16418,nonpk_extra_1#16419,row_actual_from_1#16420,row_actual_to_1#16421,row_hash_1#16422,nonpk1_2#16423,nonpk2_2#16424,nonpk3_2#16425,nonpk_extra_2#16426,row_actual_from_2#16427,row_actual_to_2#16428,row_hash_2#16429,operation_type#16430] parquet\n"
     ]
    }
   ],
   "source": [
    "SCD2Helper(dfv1, pk=['pk1', 'pk2'], non_pk=['nonpk1', 'nonpk2', 'nonpk3']).merge_scd2_update(dfv2_ded)"
   ]
  },
  {
   "cell_type": "code",
   "execution_count": null,
   "id": "29fc640d",
   "metadata": {},
   "outputs": [],
   "source": []
  },
  {
   "cell_type": "code",
   "execution_count": 113,
   "id": "fd91c8ec",
   "metadata": {},
   "outputs": [
    {
     "name": "stdout",
     "output_type": "stream",
     "text": [
      "+---+---+-------+-------+-------+------------+----------------+--------------+--------+--------------------+------+------+------+-----------+---------------+-------------+--------------------+--------------+\n",
      "|pk1|pk2|nonpk11|nonpk21|nonpk31|nonpk_extra1|row_actual_from1|row_actual_to1|row_hash|           row_hash1|nonpk1|nonpk2|nonpk3|nonpk_extra|row_actual_from|row_actual_to|           row_hash2|operation_type|\n",
      "+---+---+-------+-------+-------+------------+----------------+--------------+--------+--------------------+------+------+------+-----------+---------------+-------------+--------------------+--------------+\n",
      "| v1| c2|     a1|     b1|     c1|          r2|      2023-05-01|    9999-12-31|    null|afc91c3bf13930551...|    a1|    b1|    c1|         r2|     2023-05-01|   9999-12-31|afc91c3bf13930551...|      nochange|\n",
      "| v1| c1|     a1|     b1|     c1|          r2|      2023-05-02|    9999-12-31|    null|93e6cc4b8b0445cf2...|    a1|    b1|    c1|         r2|     2023-05-02|   9999-12-31|93e6cc4b8b0445cf2...|      nochange|\n",
      "| v1| c3|     a1|     b1|     c1|          r2|      2023-05-01|    9999-12-31|    null|86c2c40a3d76eb1ea...|    a1|    b1|    c1|         r2|     2023-05-01|   9999-12-31|86c2c40a3d76eb1ea...|      nochange|\n",
      "| v1| c0|   null|   null|   null|        null|            null|          null|    null|                null|    a2|    b1|    c1|         r2|     2023-05-01|   9999-12-31|ebd84206aad35e3e5...|        insert|\n",
      "| v1| c4|   null|   null|   null|        null|            null|          null|    null|                null|    a2|    b1|    c1|         r2|     2023-05-01|   9999-12-31|f987461f2b6fefed0...|        insert|\n",
      "+---+---+-------+-------+-------+------------+----------------+--------------+--------+--------------------+------+------+------+-----------+---------------+-------------+--------------------+--------------+\n",
      "\n"
     ]
    }
   ],
   "source": [
    "read_table('default.hhop_stg_merged_scd2_18151').show()"
   ]
  },
  {
   "cell_type": "code",
   "execution_count": null,
   "id": "84abaec8",
   "metadata": {},
   "outputs": [],
   "source": []
  },
  {
   "cell_type": "code",
   "execution_count": null,
   "id": "79b80da2",
   "metadata": {},
   "outputs": [],
   "source": []
  },
  {
   "cell_type": "code",
   "execution_count": 62,
   "id": "50d6db1a-5890-4dcf-a92c-83ea128d88a9",
   "metadata": {},
   "outputs": [],
   "source": [
    "spark.stop()"
   ]
  }
 ],
 "metadata": {
  "kernelspec": {
   "display_name": "Python 3 (ipykernel)",
   "language": "python",
   "name": "python3"
  },
  "language_info": {
   "codemirror_mode": {
    "name": "ipython",
    "version": 3
   },
   "file_extension": ".py",
   "mimetype": "text/x-python",
   "name": "python",
   "nbconvert_exporter": "python",
   "pygments_lexer": "ipython3",
   "version": "3.10.12"
  }
 },
 "nbformat": 4,
 "nbformat_minor": 5
}
