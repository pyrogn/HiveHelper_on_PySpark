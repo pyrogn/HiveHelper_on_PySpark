{
 "cells": [
  {
   "cell_type": "code",
   "execution_count": 1,
   "id": "38bf86bc-1bef-4b68-8f6a-c08a6d91202d",
   "metadata": {},
   "outputs": [
    {
     "name": "stderr",
     "output_type": "stream",
     "text": [
      "23/07/15 17:21:01 WARN Utils: Your hostname, Pavels-MacBook-Air.local resolves to a loopback address: 127.0.0.200; using 192.168.0.103 instead (on interface en0)\n",
      "23/07/15 17:21:01 WARN Utils: Set SPARK_LOCAL_IP if you need to bind to another address\n",
      "23/07/15 17:21:01 WARN NativeCodeLoader: Unable to load native-hadoop library for your platform... using builtin-java classes where applicable\n",
      "Using Spark's default log4j profile: org/apache/spark/log4j-defaults.properties\n",
      "Setting default log level to \"WARN\".\n",
      "To adjust logging level use sc.setLogLevel(newLevel). For SparkR, use setLogLevel(newLevel).\n",
      "23/07/15 17:21:02 WARN Utils: Service 'SparkUI' could not bind on port 4040. Attempting port 4041.\n"
     ]
    },
    {
     "data": {
      "text/html": [
       "\n",
       "            <div>\n",
       "                <p><b>SparkSession - in-memory</b></p>\n",
       "                \n",
       "        <div>\n",
       "            <p><b>SparkContext</b></p>\n",
       "\n",
       "            <p><a href=\"http://192.168.0.103:4041\">Spark UI</a></p>\n",
       "\n",
       "            <dl>\n",
       "              <dt>Version</dt>\n",
       "                <dd><code>v3.1.2</code></dd>\n",
       "              <dt>Master</dt>\n",
       "                <dd><code>local[*]</code></dd>\n",
       "              <dt>AppName</dt>\n",
       "                <dd><code>custom_name</code></dd>\n",
       "            </dl>\n",
       "        </div>\n",
       "        \n",
       "            </div>\n",
       "        "
      ],
      "text/plain": [
       "<pyspark.sql.session.SparkSession at 0x7fe629b21120>"
      ]
     },
     "metadata": {},
     "output_type": "display_data"
    }
   ],
   "source": [
    "from importlib import reload\n",
    "\n",
    "from pyspark.sql.functions import col\n",
    "import pyspark.sql.functions as F\n",
    "import pyspark.sql.types as T\n",
    "from pyspark.sql.window import Window as W\n",
    "\n",
    "from hhop import get_spark_builder\n",
    "spark_builder = get_spark_builder('custom_name'); \n",
    "spark = spark_builder.getOrCreate(); sc = spark.sparkContext; sc.setLogLevel(\"ERROR\")\n",
    "\n",
    "from hhop import DFExtender, SchemaManager, TablePartitionDescriber, SCD2Helper #main classes\n",
    "from hhop import read_table, write_table, write_read_table, union_all, deduplicate_df, get_table_location # useful functions\n",
    "from hhop import HhopException\n",
    "display(spark)"
   ]
  },
  {
   "cell_type": "code",
   "execution_count": 2,
   "id": "dad81453-9c1c-4d6b-acdf-66f8844858c1",
   "metadata": {},
   "outputs": [],
   "source": [
    "df1_transactions = spark.read.csv('../hhop/scd2_data/to_scd2.csv', sep=';', header=True)"
   ]
  },
  {
   "cell_type": "code",
   "execution_count": 3,
   "id": "ed2e6531-2c80-4690-888e-61eb292d3b0c",
   "metadata": {},
   "outputs": [
    {
     "name": "stdout",
     "output_type": "stream",
     "text": [
      "+---+----+------+------+------+-----------+-------------------+\n",
      "|pk1|pk2 |nonpk1|nonpk2|nonpk3|nonpk_extra|ts                 |\n",
      "+---+----+------+------+------+-----------+-------------------+\n",
      "|v1 |null|null  |null  |c2    |r3         |2023-05-07 15:00:00|\n",
      "|v1 |null|null  |null  |null  |null       |2023-05-10 15:00:00|\n",
      "|v1 |null|null  |fds   |null  |null       |2023-05-11 15:00:00|\n",
      "|v1 |null|null  |fds   |asdf  |null       |2023-05-12 15:00:00|\n",
      "|v1 |c1  |a1    |b1    |c1    |r1         |2023-05-01 10:00:00|\n",
      "|v1 |c1  |a1    |b1    |c1    |r2         |2023-05-01 12:00:00|\n",
      "|v1 |c1  |a1    |b1    |c1    |r3         |2023-05-02 12:00:00|\n",
      "|v1 |c1  |a1    |b1    |c2    |null       |2023-05-03 12:00:00|\n",
      "|v1 |c1  |a1    |b2    |c2    |null       |2023-05-03 15:00:00|\n",
      "|v1 |c1  |null  |b2    |c2    |r3         |2023-05-05 15:00:00|\n",
      "|v1 |c1  |null  |b2    |c2    |r3         |2023-05-06 15:00:00|\n",
      "|v1 |c1  |null  |null  |c2    |r3         |2023-05-07 15:00:00|\n",
      "|v1 |c1  |null  |null  |null  |null       |2023-05-10 15:00:00|\n",
      "|v1 |c1  |null  |null  |c2    |r3         |2023-05-13 15:00:00|\n",
      "+---+----+------+------+------+-----------+-------------------+\n",
      "\n"
     ]
    }
   ],
   "source": [
    "df1_transactions.orderBy(['pk1', 'pk2', 'ts']).show(100, False)"
   ]
  },
  {
   "cell_type": "code",
   "execution_count": 28,
   "id": "c8240f17",
   "metadata": {},
   "outputs": [],
   "source": [
    "import hhop\n",
    "reload(hhop)\n",
    "reload(hhop.hhop)\n",
    "reload(hhop.hhop.main)\n",
    "from hhop import SCD2Helper"
   ]
  },
  {
   "cell_type": "code",
   "execution_count": 29,
   "id": "3993c57c",
   "metadata": {},
   "outputs": [],
   "source": [
    "df1_transactions_s = SCD2Helper(\n",
    "    df1_transactions, \n",
    "    pk=['pk1', 'pk2'], \n",
    "    non_pk=['nonpk1', 'nonpk2', 'nonpk3'],\n",
    "    time_col='ts',\n",
    ")"
   ]
  },
  {
   "cell_type": "code",
   "execution_count": 30,
   "id": "3e84d603",
   "metadata": {},
   "outputs": [],
   "source": [
    "df1_scd2 = df1_transactions_s.df_to_scd2().cache()"
   ]
  },
  {
   "cell_type": "code",
   "execution_count": 31,
   "id": "0fa43c3c",
   "metadata": {},
   "outputs": [
    {
     "name": "stdout",
     "output_type": "stream",
     "text": [
      "+---+----+------+------+------+-----------+-------------------+--------------------------------+---------------+-------------+\n",
      "|pk1|pk2 |nonpk1|nonpk2|nonpk3|nonpk_extra|ts                 |row_hash                        |row_actual_from|row_actual_to|\n",
      "+---+----+------+------+------+-----------+-------------------+--------------------------------+---------------+-------------+\n",
      "|v1 |null|null  |null  |c2    |r3         |2023-05-07 15:00:00|56e6807f4b745e20dffeb1b731e5a6d4|2023-05-07     |2023-05-09   |\n",
      "|v1 |null|null  |null  |null  |null       |2023-05-10 15:00:00|6654c734ccab8f440ff0825eb443dc7f|2023-05-10     |2023-05-10   |\n",
      "|v1 |null|null  |fds   |null  |null       |2023-05-11 15:00:00|2d2722576095dd7996570b307d777539|2023-05-11     |2023-05-11   |\n",
      "|v1 |null|null  |fds   |asdf  |null       |2023-05-12 15:00:00|b08363345cd7c1cb14e6f4747ce1563d|2023-05-12     |9999-12-31   |\n",
      "|v1 |c1  |a1    |b1    |c1    |r1         |2023-05-01 10:00:00|93e6cc4b8b0445cf261e9417106ae6f0|2023-05-01     |2023-05-02   |\n",
      "|v1 |c1  |a1    |b2    |c2    |null       |2023-05-03 15:00:00|a6244d3c7c2aed33c4d9525fbef29c1d|2023-05-03     |2023-05-04   |\n",
      "|v1 |c1  |null  |b2    |c2    |r3         |2023-05-05 15:00:00|17f599be9e07976c2036361c9ad8f633|2023-05-05     |2023-05-06   |\n",
      "|v1 |c1  |null  |null  |c2    |r3         |2023-05-07 15:00:00|a363a9dd6d5b30865ab5813581941516|2023-05-07     |2023-05-09   |\n",
      "|v1 |c1  |null  |null  |null  |null       |2023-05-10 15:00:00|da58ea33b20d82042d9969c46c16c3b8|2023-05-10     |2023-05-12   |\n",
      "|v1 |c1  |null  |null  |c2    |r3         |2023-05-13 15:00:00|a363a9dd6d5b30865ab5813581941516|2023-05-13     |9999-12-31   |\n",
      "+---+----+------+------+------+-----------+-------------------+--------------------------------+---------------+-------------+\n",
      "\n"
     ]
    }
   ],
   "source": [
    "df1_scd2.orderBy(['pk1', 'pk2', 'ts']).show(100, False)"
   ]
  },
  {
   "cell_type": "code",
   "execution_count": 38,
   "id": "0c4a73c4",
   "metadata": {},
   "outputs": [
    {
     "data": {
      "text/plain": [
       "hhop.hhop.main.SCD2Helper"
      ]
     },
     "execution_count": 38,
     "metadata": {},
     "output_type": "execute_result"
    }
   ],
   "source": [
    "type(df1_scd2)"
   ]
  },
  {
   "cell_type": "code",
   "execution_count": 46,
   "id": "795a5c38",
   "metadata": {},
   "outputs": [
    {
     "data": {
      "text/plain": [
       "10"
      ]
     },
     "execution_count": 46,
     "metadata": {},
     "output_type": "execute_result"
    }
   ],
   "source": [
    "df1_scd2.count()"
   ]
  },
  {
   "cell_type": "code",
   "execution_count": 55,
   "id": "c1834853",
   "metadata": {},
   "outputs": [
    {
     "name": "stdout",
     "output_type": "stream",
     "text": [
      "+---+----+------+------+------+-----------+-------------------+--------------------+---------------+----------+\n",
      "|pk1| pk2|nonpk1|nonpk2|nonpk3|nonpk_extra|                 ts|            row_hash|row_actual_from|      asdf|\n",
      "+---+----+------+------+------+-----------+-------------------+--------------------+---------------+----------+\n",
      "| v1|  c1|    a1|    b1|    c1|         r1|2023-05-01 10:00:00|93e6cc4b8b0445cf2...|     2023-05-01|2023-05-02|\n",
      "| v1|  c1|    a1|    b2|    c2|       null|2023-05-03 15:00:00|a6244d3c7c2aed33c...|     2023-05-03|2023-05-04|\n",
      "| v1|  c1|  null|    b2|    c2|         r3|2023-05-05 15:00:00|17f599be9e07976c2...|     2023-05-05|2023-05-06|\n",
      "| v1|  c1|  null|  null|    c2|         r3|2023-05-07 15:00:00|a363a9dd6d5b30865...|     2023-05-07|2023-05-09|\n",
      "| v1|  c1|  null|  null|  null|       null|2023-05-10 15:00:00|da58ea33b20d82042...|     2023-05-10|2023-05-12|\n",
      "| v1|  c1|  null|  null|    c2|         r3|2023-05-13 15:00:00|a363a9dd6d5b30865...|     2023-05-13|9999-12-31|\n",
      "| v1|null|  null|  null|    c2|         r3|2023-05-07 15:00:00|56e6807f4b745e20d...|     2023-05-07|2023-05-09|\n",
      "| v1|null|  null|  null|  null|       null|2023-05-10 15:00:00|6654c734ccab8f440...|     2023-05-10|2023-05-10|\n",
      "| v1|null|  null|   fds|  null|       null|2023-05-11 15:00:00|2d2722576095dd799...|     2023-05-11|2023-05-11|\n",
      "| v1|null|  null|   fds|  asdf|       null|2023-05-12 15:00:00|b08363345cd7c1cb1...|     2023-05-12|9999-12-31|\n",
      "+---+----+------+------+------+-----------+-------------------+--------------------+---------------+----------+\n",
      "\n"
     ]
    }
   ],
   "source": [
    "df1_scd2.withColumnRenamed('row_actual_to', 'asdf').show(10)"
   ]
  },
  {
   "cell_type": "code",
   "execution_count": null,
   "id": "1be0bb23",
   "metadata": {},
   "outputs": [],
   "source": []
  },
  {
   "cell_type": "code",
   "execution_count": null,
   "id": "2a6de51b",
   "metadata": {},
   "outputs": [],
   "source": []
  },
  {
   "cell_type": "markdown",
   "id": "cc5c2c67",
   "metadata": {},
   "source": [
    "## Validation"
   ]
  },
  {
   "cell_type": "code",
   "execution_count": 7,
   "id": "f3a55ea9",
   "metadata": {},
   "outputs": [],
   "source": [
    "s2 = s1h.df_to_scd2(s1, ['pk1', 'pk2'], ['nonpk1', 'nonpk2', 'nonpk3'], 'ts').orderBy(['pk1', 'pk2', 'ts']).cache()"
   ]
  },
  {
   "cell_type": "code",
   "execution_count": 8,
   "id": "c0877bdc",
   "metadata": {},
   "outputs": [],
   "source": [
    "import hhop\n",
    "reload(hhop)\n",
    "from hhop import SCD2Helper"
   ]
  },
  {
   "cell_type": "code",
   "execution_count": 9,
   "id": "955470c9",
   "metadata": {},
   "outputs": [
    {
     "name": "stdout",
     "output_type": "stream",
     "text": [
      "+---+----+------+------+------+-----------+-------------------+--------------------------------+---------------+-------------+\n",
      "|pk1|pk2 |nonpk1|nonpk2|nonpk3|nonpk_extra|ts                 |row_hash                        |row_actual_from|row_actual_to|\n",
      "+---+----+------+------+------+-----------+-------------------+--------------------------------+---------------+-------------+\n",
      "|v1 |null|null  |null  |c2    |r3         |2023-05-07 15:00:00|56e6807f4b745e20dffeb1b731e5a6d4|2023-05-07     |2023-05-09   |\n",
      "|v1 |null|null  |null  |null  |null       |2023-05-10 15:00:00|6654c734ccab8f440ff0825eb443dc7f|2023-05-10     |2023-05-10   |\n",
      "|v1 |null|null  |fds   |null  |null       |2023-05-11 15:00:00|2d2722576095dd7996570b307d777539|2023-05-11     |2023-05-11   |\n",
      "|v1 |null|null  |fds   |asdf  |null       |2023-05-12 15:00:00|b08363345cd7c1cb14e6f4747ce1563d|2023-05-12     |9999-12-31   |\n",
      "|v1 |c1  |a1    |b1    |c1    |r1         |2023-05-01 10:00:00|93e6cc4b8b0445cf261e9417106ae6f0|2023-05-01     |2023-05-02   |\n",
      "|v1 |c1  |a1    |b2    |c2    |null       |2023-05-03 15:00:00|a6244d3c7c2aed33c4d9525fbef29c1d|2023-05-03     |2023-05-04   |\n",
      "|v1 |c1  |null  |b2    |c2    |r3         |2023-05-05 15:00:00|17f599be9e07976c2036361c9ad8f633|2023-05-05     |2023-05-06   |\n",
      "|v1 |c1  |null  |null  |c2    |r3         |2023-05-07 15:00:00|a363a9dd6d5b30865ab5813581941516|2023-05-07     |2023-05-09   |\n",
      "|v1 |c1  |null  |null  |null  |null       |2023-05-10 15:00:00|da58ea33b20d82042d9969c46c16c3b8|2023-05-10     |2023-05-12   |\n",
      "|v1 |c1  |null  |null  |c2    |r3         |2023-05-13 15:00:00|a363a9dd6d5b30865ab5813581941516|2023-05-13     |9999-12-31   |\n",
      "+---+----+------+------+------+-----------+-------------------+--------------------------------+---------------+-------------+\n",
      "\n"
     ]
    }
   ],
   "source": [
    "s2.show(100, False)"
   ]
  },
  {
   "cell_type": "code",
   "execution_count": 10,
   "id": "353baaed",
   "metadata": {},
   "outputs": [],
   "source": [
    "# s3 = s2.filter(\"row_hash != 'da58ea33b20d82042d9969c46c16c3b8'\")\n",
    "s3 = s2.withColumn('row_actual_to', F.substring('row_actual_to', 1, 6))"
   ]
  },
  {
   "cell_type": "code",
   "execution_count": 11,
   "id": "434c2306",
   "metadata": {},
   "outputs": [
    {
     "name": "stdout",
     "output_type": "stream",
     "text": [
      "There are 2 PK duplicates by ['pk1', 'pk2', 'row_actual_to'] Look at `.basic_pk_check.df_duplicates_pk`\n",
      "10 rows with invalid dates, look at `.df_invalid_dates`\n",
      "Number of records: 10\n"
     ]
    }
   ],
   "source": [
    "# .df_to_scd2(['nonpk1', 'nonpk2', 'nonpk3'], 'ts').orderBy(['pk1', 'pk2', 'ts'])\n",
    "a = SCD2Helper()\n",
    "a.validate_scd2(s3, ['pk1', 'pk2'], ['nonpk1', 'nonpk2', 'nonpk3'], 'ts')"
   ]
  },
  {
   "cell_type": "code",
   "execution_count": 12,
   "id": "ed45585b",
   "metadata": {},
   "outputs": [
    {
     "name": "stdout",
     "output_type": "stream",
     "text": [
      "Number of records: 10\n",
      "All tests passed\n"
     ]
    }
   ],
   "source": [
    "# .df_to_scd2(['nonpk1', 'nonpk2', 'nonpk3'], 'ts').orderBy(['pk1', 'pk2', 'ts'])\n",
    "a = SCD2Helper()\n",
    "a.validate_scd2(s2, ['pk1', 'pk2'], ['nonpk1', 'nonpk2', 'nonpk3'], 'ts')"
   ]
  },
  {
   "cell_type": "code",
   "execution_count": 14,
   "metadata": {},
   "outputs": [],
   "source": [
    "# a.basic_pk_check.df_duplicates_pk.show(10, False)"
   ]
  },
  {
   "cell_type": "markdown",
   "id": "2309ff32",
   "metadata": {},
   "source": [
    "### Fill history"
   ]
  },
  {
   "cell_type": "code",
   "execution_count": 13,
   "id": "0677bd21",
   "metadata": {},
   "outputs": [
    {
     "name": "stdout",
     "output_type": "stream",
     "text": [
      "+---+----+------+------+------+-----------+-------------------+--------------------------------+---------------+-------------+\n",
      "|pk1|pk2 |nonpk1|nonpk2|nonpk3|nonpk_extra|ts                 |row_hash                        |row_actual_from|row_actual_to|\n",
      "+---+----+------+------+------+-----------+-------------------+--------------------------------+---------------+-------------+\n",
      "|v1 |null|null  |null  |c2    |r3         |2023-05-07 15:00:00|56e6807f4b745e20dffeb1b731e5a6d4|2023-05-07     |2023-05-09   |\n",
      "|v1 |null|null  |null  |null  |null       |2023-05-10 15:00:00|6654c734ccab8f440ff0825eb443dc7f|2023-05-10     |2023-05-10   |\n",
      "|v1 |null|null  |fds   |null  |null       |2023-05-11 15:00:00|2d2722576095dd7996570b307d777539|2023-05-11     |2023-05-11   |\n",
      "|v1 |null|null  |fds   |asdf  |null       |2023-05-12 15:00:00|b08363345cd7c1cb14e6f4747ce1563d|2023-05-12     |9999-12-31   |\n",
      "|v1 |c1  |a1    |b1    |c1    |r1         |2023-05-01 10:00:00|93e6cc4b8b0445cf261e9417106ae6f0|2023-05-01     |2023-05-02   |\n",
      "|v1 |c1  |a1    |b2    |c2    |null       |2023-05-03 15:00:00|a6244d3c7c2aed33c4d9525fbef29c1d|2023-05-03     |2023-05-04   |\n",
      "|v1 |c1  |null  |b2    |c2    |r3         |2023-05-05 15:00:00|17f599be9e07976c2036361c9ad8f633|2023-05-05     |2023-05-06   |\n",
      "|v1 |c1  |null  |null  |c2    |r3         |2023-05-07 15:00:00|a363a9dd6d5b30865ab5813581941516|2023-05-07     |2023-05-09   |\n",
      "|v1 |c1  |null  |null  |null  |null       |2023-05-10 15:00:00|da58ea33b20d82042d9969c46c16c3b8|2023-05-10     |2023-05-12   |\n",
      "|v1 |c1  |null  |null  |c2    |r3         |2023-05-13 15:00:00|a363a9dd6d5b30865ab5813581941516|2023-05-13     |9999-12-31   |\n",
      "+---+----+------+------+------+-----------+-------------------+--------------------------------+---------------+-------------+\n",
      "\n"
     ]
    }
   ],
   "source": [
    "s2.show(100, False)"
   ]
  },
  {
   "cell_type": "code",
   "execution_count": 14,
   "id": "09e6c4f6",
   "metadata": {},
   "outputs": [],
   "source": [
    "@F.udf(T.ArrayType(T.StructType()))\n",
    "def merge_columns(col1, col2):\n",
    "    merged = [x for x in col1] + [y for y in col2]\n",
    "    return merged\n",
    "\n",
    "# result_df = df.select([\n",
    "#   \"column3\",\n",
    "#   merge_columns(\"column1\", \"column2\").alias(\"merged\")\n",
    "# ])\n"
   ]
  },
  {
   "cell_type": "code",
   "execution_count": 45,
   "id": "07001d2b",
   "metadata": {},
   "outputs": [],
   "source": [
    "window_inc_versions = W.partitionBy('pk1', 'pk2').orderBy('row_actual_from')\n",
    "s2_holes = s2.filter(\n",
    "        ~col('row_hash').isin([\n",
    "            'a6244d3c7c2aed33c4d9525fbef29c1d', \n",
    "            'da58ea33b20d82042d9969c46c16c3b8', '2d2722576095dd7996570b307d777539', \n",
    "                               'a363a9dd6d5b30865ab5813581941516'\n",
    "                               ])\n",
    ")"
   ]
  },
  {
   "cell_type": "code",
   "execution_count": 46,
   "id": "81a1d175",
   "metadata": {},
   "outputs": [
    {
     "name": "stdout",
     "output_type": "stream",
     "text": [
      "+---+----+------+------+------+-----------+-------------------+--------------------+---------------+-------------+\n",
      "|pk1| pk2|nonpk1|nonpk2|nonpk3|nonpk_extra|                 ts|            row_hash|row_actual_from|row_actual_to|\n",
      "+---+----+------+------+------+-----------+-------------------+--------------------+---------------+-------------+\n",
      "| v1|null|  null|  null|    c2|         r3|2023-05-07 15:00:00|56e6807f4b745e20d...|     2023-05-07|   2023-05-09|\n",
      "| v1|null|  null|  null|  null|       null|2023-05-10 15:00:00|6654c734ccab8f440...|     2023-05-10|   2023-05-10|\n",
      "| v1|null|  null|   fds|  asdf|       null|2023-05-12 15:00:00|b08363345cd7c1cb1...|     2023-05-12|   9999-12-31|\n",
      "| v1|  c1|    a1|    b1|    c1|         r1|2023-05-01 10:00:00|93e6cc4b8b0445cf2...|     2023-05-01|   2023-05-02|\n",
      "| v1|  c1|  null|    b2|    c2|         r3|2023-05-05 15:00:00|17f599be9e07976c2...|     2023-05-05|   2023-05-06|\n",
      "+---+----+------+------+------+-----------+-------------------+--------------------+---------------+-------------+\n",
      "\n"
     ]
    }
   ],
   "source": [
    "s2_holes.show()"
   ]
  },
  {
   "cell_type": "code",
   "execution_count": 57,
   "id": "8f06f81c",
   "metadata": {},
   "outputs": [
    {
     "name": "stdout",
     "output_type": "stream",
     "text": [
      "+---+----+------+------+-----------+---------------+-------------+---------------------+-------------------+---------------------+--------------------------+-------------------------------------------+---------------------+------------------------+----------+----------+\n",
      "|pk1|pk2 |nonpk1|nonpk2|nonpk_extra|row_actual_from|row_actual_to|earliest_from_in_hole|is_need_fill_behind|hole_behind          |hole_plus_infinity_history|merged_history                             |from_to_str          |splitted_from_to        |from      |to        |\n",
      "+---+----+------+------+-----------+---------------+-------------+---------------------+-------------------+---------------------+--------------------------+-------------------------------------------+---------------------+------------------------+----------+----------+\n",
      "|v1 |c1  |a1    |b1    |r1         |2023-05-01     |2023-05-02   |1000-01-01           |true               |1000-01-01,2023-04-30|null                      |1000-01-01,2023-04-30                      |1000-01-01,2023-04-30|[1000-01-01, 2023-04-30]|1000-01-01|2023-04-30|\n",
      "|v1 |c1  |null  |b2    |r3         |2023-05-05     |2023-05-06   |2023-05-03           |true               |2023-05-03,2023-05-04|2023-05-07,9999-12-31     |2023-05-03,2023-05-04;2023-05-07,9999-12-31|2023-05-03,2023-05-04|[2023-05-03, 2023-05-04]|2023-05-03|2023-05-04|\n",
      "|v1 |c1  |null  |b2    |r3         |2023-05-05     |2023-05-06   |2023-05-03           |true               |2023-05-03,2023-05-04|2023-05-07,9999-12-31     |2023-05-03,2023-05-04;2023-05-07,9999-12-31|2023-05-07,9999-12-31|[2023-05-07, 9999-12-31]|2023-05-07|9999-12-31|\n",
      "|v1 |null|null  |null  |r3         |2023-05-07     |2023-05-09   |1000-01-01           |true               |1000-01-01,2023-05-06|null                      |1000-01-01,2023-05-06                      |1000-01-01,2023-05-06|[1000-01-01, 2023-05-06]|1000-01-01|2023-05-06|\n",
      "|v1 |null|null  |fds   |null       |2023-05-12     |9999-12-31   |2023-05-11           |true               |2023-05-11,2023-05-11|null                      |2023-05-11,2023-05-11                      |2023-05-11,2023-05-11|[2023-05-11, 2023-05-11]|2023-05-11|2023-05-11|\n",
      "+---+----+------+------+-----------+---------------+-------------+---------------------+-------------------+---------------------+--------------------------+-------------------------------------------+---------------------+------------------------+----------+----------+\n",
      "\n"
     ]
    }
   ],
   "source": [
    "\n",
    "(\n",
    "    s2_holes\n",
    "    .withColumn('earliest_from_in_hole', F.coalesce(F.date_add(F.lag('row_actual_to').over(window_inc_versions), 1), F.lit('1000-01-01')))\n",
    "    .withColumn('is_need_fill_behind', col('row_actual_from') != col('earliest_from_in_hole'))\n",
    "    .withColumn('hole_behind', F.when(col('is_need_fill_behind'), F.concat_ws(',', col('earliest_from_in_hole'), F.date_sub('row_actual_from', 1))))\n",
    "    .withColumn('hole_plus_infinity_history', F.when(\n",
    "        F.lead('row_actual_to').over(window_inc_versions).isNull() & (col('row_actual_to') != F.lit('9999-12-31')),\n",
    "          F.concat_ws(',', F.date_add('row_actual_to', 1), F.lit('9999-12-31'))\n",
    "          )\n",
    "        )       \n",
    "        .withColumn('merged_history', F.concat_ws(';', 'hole_behind', 'hole_plus_infinity_history'))\n",
    "        .withColumn('from_to_str', F.explode(F.split('merged_history', ';')))\n",
    "        .filter(col('from_to_str') != '')\n",
    "        .withColumn('splitted_from_to', F.split('from_to_str', ','))\n",
    "        .withColumn('from', col('splitted_from_to').getItem(0))\n",
    "        .withColumn('to', col('splitted_from_to').getItem(1))\n",
    "    .drop('row_hash', 'ts', 'nonpk3')\n",
    ").show(100, False)"
   ]
  },
  {
   "cell_type": "code",
   "execution_count": 86,
   "id": "4077849a",
   "metadata": {},
   "outputs": [],
   "source": [
    "import hhop\n",
    "reload(hhop)\n",
    "from hhop import SCD2Helper"
   ]
  },
  {
   "cell_type": "code",
   "execution_count": 87,
   "id": "f686ec11",
   "metadata": {},
   "outputs": [],
   "source": [
    "s = SCD2Helper(s2_holes, ['pk1', 'pk2'], [])"
   ]
  },
  {
   "cell_type": "code",
   "execution_count": 90,
   "id": "332d20b9",
   "metadata": {},
   "outputs": [
    {
     "name": "stdout",
     "output_type": "stream",
     "text": [
      "+---+----+------+------+------+-----------+-------------------+--------------------------------+---------------+-------------+\n",
      "|pk1|pk2 |nonpk1|nonpk2|nonpk3|nonpk_extra|ts                 |row_hash                        |row_actual_from|row_actual_to|\n",
      "+---+----+------+------+------+-----------+-------------------+--------------------------------+---------------+-------------+\n",
      "|v1 |null|null  |null  |null  |null       |null               |6654c734ccab8f440ff0825eb443dc7f|1000-01-01     |2023-05-06   |\n",
      "|v1 |null|null  |null  |c2    |r3         |2023-05-07 15:00:00|56e6807f4b745e20dffeb1b731e5a6d4|2023-05-07     |2023-05-09   |\n",
      "|v1 |null|null  |null  |null  |null       |2023-05-10 15:00:00|6654c734ccab8f440ff0825eb443dc7f|2023-05-10     |2023-05-10   |\n",
      "|v1 |null|null  |null  |null  |null       |null               |6654c734ccab8f440ff0825eb443dc7f|2023-05-11     |2023-05-11   |\n",
      "|v1 |null|null  |fds   |asdf  |null       |2023-05-12 15:00:00|b08363345cd7c1cb14e6f4747ce1563d|2023-05-12     |9999-12-31   |\n",
      "|v1 |c1  |null  |null  |null  |null       |null               |da58ea33b20d82042d9969c46c16c3b8|1000-01-01     |2023-04-30   |\n",
      "|v1 |c1  |a1    |b1    |c1    |r1         |2023-05-01 10:00:00|93e6cc4b8b0445cf261e9417106ae6f0|2023-05-01     |2023-05-02   |\n",
      "|v1 |c1  |null  |null  |null  |null       |null               |da58ea33b20d82042d9969c46c16c3b8|2023-05-03     |2023-05-04   |\n",
      "|v1 |c1  |null  |b2    |c2    |r3         |2023-05-05 15:00:00|17f599be9e07976c2036361c9ad8f633|2023-05-05     |2023-05-06   |\n",
      "|v1 |c1  |null  |null  |null  |null       |null               |da58ea33b20d82042d9969c46c16c3b8|2023-05-07     |9999-12-31   |\n",
      "+---+----+------+------+------+-----------+-------------------+--------------------------------+---------------+-------------+\n",
      "\n"
     ]
    }
   ],
   "source": [
    "s.fill_scd2_history().orderBy('pk1', 'pk2', 'row_actual_from').show(10, False)"
   ]
  },
  {
   "cell_type": "code",
   "execution_count": 91,
   "id": "6dc6ee7a",
   "metadata": {},
   "outputs": [],
   "source": [
    "k = s.fill_scd2_history()"
   ]
  },
  {
   "cell_type": "code",
   "execution_count": 94,
   "metadata": {},
   "outputs": [
    {
     "data": {
      "text/plain": [
       "pyspark.sql.dataframe.DataFrame"
      ]
     },
     "execution_count": 94,
     "metadata": {},
     "output_type": "execute_result"
    }
   ],
   "source": [
    "k"
   ]
  },
  {
   "cell_type": "code",
   "execution_count": 92,
   "id": "f6789470",
   "metadata": {},
   "outputs": [
    {
     "ename": "TypeError",
     "evalue": "SCD2Helper.validate_scd2() missing 4 required positional arguments: 'df', 'pk', 'non_pk', and 'time_col'",
     "output_type": "error",
     "traceback": [
      "\u001b[0;31m---------------------------------------------------------------------------\u001b[0m",
      "\u001b[0;31mTypeError\u001b[0m                                 Traceback (most recent call last)",
      "\u001b[1;32m/Users/pyro/github/HiveHelper_on_PySpark/scd2_demo.ipynb Cell 28\u001b[0m in \u001b[0;36m1\n\u001b[0;32m----> <a href='vscode-notebook-cell:/Users/pyro/github/HiveHelper_on_PySpark/scd2_demo.ipynb#Y100sZmlsZQ%3D%3D?line=0'>1</a>\u001b[0m SCD2Helper(k, [\u001b[39m'\u001b[39;49m\u001b[39mpk1\u001b[39;49m\u001b[39m'\u001b[39;49m, \u001b[39m'\u001b[39;49m\u001b[39mpk2\u001b[39;49m\u001b[39m'\u001b[39;49m], [])\u001b[39m.\u001b[39;49mvalidate_scd2()\n",
      "\u001b[0;31mTypeError\u001b[0m: SCD2Helper.validate_scd2() missing 4 required positional arguments: 'df', 'pk', 'non_pk', and 'time_col'"
     ]
    }
   ],
   "source": [
    "# SCD2Helper(k, ['pk1', 'pk2'], []).validate_scd2()"
   ]
  },
  {
   "cell_type": "code",
   "execution_count": 94,
   "id": "8bccaacb",
   "metadata": {},
   "outputs": [
    {
     "name": "stdout",
     "output_type": "stream",
     "text": [
      "+---+----+------+------+------+-----------+-------------------+--------------------------------+---------------+-------------+\n",
      "|pk1|pk2 |nonpk1|nonpk2|nonpk3|nonpk_extra|ts                 |row_hash                        |row_actual_from|row_actual_to|\n",
      "+---+----+------+------+------+-----------+-------------------+--------------------------------+---------------+-------------+\n",
      "|v1 |null|null  |null  |c2    |r3         |2023-05-07 15:00:00|56e6807f4b745e20dffeb1b731e5a6d4|2023-05-07     |2023-05-09   |\n",
      "|v1 |null|null  |null  |null  |null       |2023-05-10 15:00:00|6654c734ccab8f440ff0825eb443dc7f|2023-05-10     |2023-05-10   |\n",
      "|v1 |null|null  |fds   |asdf  |null       |2023-05-12 15:00:00|b08363345cd7c1cb14e6f4747ce1563d|2023-05-12     |9999-12-31   |\n",
      "|v1 |c1  |a1    |b1    |c1    |r1         |2023-05-01 10:00:00|93e6cc4b8b0445cf261e9417106ae6f0|2023-05-01     |2023-05-02   |\n",
      "|v1 |c1  |null  |b2    |c2    |r3         |2023-05-05 15:00:00|17f599be9e07976c2036361c9ad8f633|2023-05-05     |2023-05-06   |\n",
      "+---+----+------+------+------+-----------+-------------------+--------------------------------+---------------+-------------+\n",
      "\n"
     ]
    }
   ],
   "source": [
    "# s2_holes.show(10, False)"
   ]
  },
  {
   "cell_type": "code",
   "execution_count": 111,
   "id": "c578cc51",
   "metadata": {},
   "outputs": [
    {
     "name": "stdout",
     "output_type": "stream",
     "text": [
      "+---+----+------+------+------+-----------+-------------------+--------------------+---------------+-------------+\n",
      "|pk1| pk2|nonpk1|nonpk2|nonpk3|nonpk_extra|                 ts|            row_hash|row_actual_from|row_actual_to|\n",
      "+---+----+------+------+------+-----------+-------------------+--------------------+---------------+-------------+\n",
      "| v1|null|  null|  null|    c2|         r3|2023-05-07 15:00:00|6654c734ccab8f440...|     2023-05-07|   2023-05-10|\n",
      "| v1|null|  null|   fds|  null|       null|2023-05-11 15:00:00|2d2722576095dd799...|     2023-05-11|   9999-12-31|\n",
      "| v1|  c1|    a1|    b1|    c1|         r1|2023-05-01 10:00:00|096c3c37214aa93e8...|     2023-05-01|   2023-05-02|\n",
      "| v1|  c1|    a1|    b2|    c2|       null|2023-05-03 15:00:00|e3a0efcb4f913e410...|     2023-05-03|   2023-05-06|\n",
      "| v1|  c1|  null|  null|    c2|         r3|2023-05-07 15:00:00|da58ea33b20d82042...|     2023-05-07|   9999-12-31|\n",
      "+---+----+------+------+------+-----------+-------------------+--------------------+---------------+-------------+\n",
      "\n"
     ]
    }
   ],
   "source": [
    "import hhop\n",
    "reload(hhop)\n",
    "from hhop import SCD2Helper\n",
    "(\n",
    "    SCD2Helper(s2, ['pk1', 'pk2'], ['nonpk2']).merge_scd2_history()\n",
    ").orderBy('pk1', 'pk2', 'row_actual_from').show(10)"
   ]
  },
  {
   "cell_type": "code",
   "execution_count": 101,
   "id": "088b4770",
   "metadata": {},
   "outputs": [
    {
     "name": "stdout",
     "output_type": "stream",
     "text": [
      "+---+----+------+------+------+-----------+-------------------+--------------------+---------------+-------------+-----------+---------+\n",
      "|pk1| pk2|nonpk1|nonpk2|nonpk3|nonpk_extra|                 ts|            row_hash|row_actual_from|row_actual_to|version_num|latest_to|\n",
      "+---+----+------+------+------+-----------+-------------------+--------------------+---------------+-------------+-----------+---------+\n",
      "| v1|  c1|    a1|    b1|    c1|         r1|2023-05-01 10:00:00|096c3c37214aa93e8...|     2023-05-01|   2023-05-02|          0|     null|\n",
      "| v1|  c1|    a1|    b2|    c2|       null|2023-05-03 15:00:00|e3a0efcb4f913e410...|     2023-05-03|   2023-05-04|          1|     null|\n",
      "| v1|  c1|  null|  null|    c2|         r3|2023-05-07 15:00:00|da58ea33b20d82042...|     2023-05-07|   2023-05-09|          2|     null|\n",
      "| v1|null|  null|  null|    c2|         r3|2023-05-07 15:00:00|6654c734ccab8f440...|     2023-05-07|   2023-05-09|          0|     null|\n",
      "| v1|null|  null|   fds|  null|       null|2023-05-11 15:00:00|2d2722576095dd799...|     2023-05-11|   2023-05-11|          1|     null|\n",
      "+---+----+------+------+------+-----------+-------------------+--------------------+---------------+-------------+-----------+---------+\n",
      "\n"
     ]
    }
   ],
   "source": [
    "import hhop\n",
    "reload(hhop)\n",
    "from hhop import SCD2Helper\n",
    "(\n",
    "    SCD2Helper(s2, ['pk1', 'pk2'], ['nonpk2']).merge_scd2_history()\n",
    ").show(10)"
   ]
  },
  {
   "cell_type": "code",
   "execution_count": null,
   "id": "a9ec6475",
   "metadata": {},
   "outputs": [],
   "source": []
  },
  {
   "cell_type": "code",
   "execution_count": 98,
   "id": "5d241b85",
   "metadata": {},
   "outputs": [],
   "source": [
    "s2_inf = (\n",
    "    s2_holes\n",
    "    .select('pk1', 'pk2')\n",
    "    .distinct()\n",
    "    .withColumn('row_actual_from', F.lit('1000-01-01'))\n",
    "    .withColumn('row_actual_to', F.lit('9999-12-31'))\n",
    ")"
   ]
  },
  {
   "cell_type": "code",
   "execution_count": null,
   "id": "81f7128f",
   "metadata": {},
   "outputs": [],
   "source": [
    "(\n",
    "    s2_inf\n",
    "    .join(s2_holes, on=['pk1', 'pk2'], how='inner')\n",
    "    .filter()\n",
    ")"
   ]
  },
  {
   "cell_type": "code",
   "execution_count": 52,
   "id": "9bccc1ab",
   "metadata": {},
   "outputs": [
    {
     "name": "stdout",
     "output_type": "stream",
     "text": [
      "+---+------+-----+------+-----+\n",
      "| id|f_name|f_add|l_name|l_add|\n",
      "+---+------+-----+------+-----+\n",
      "|aaa|   tom|   in|  nats|   in|\n",
      "|bbb|  tom1|   on| nats1|   on|\n",
      "+---+------+-----+------+-----+\n",
      "\n"
     ]
    }
   ],
   "source": [
    "a = [('aaa', 'tom', 'in', 'nats', 'in'),('bbb', 'tom1', 'on', 'nats1', 'on'),]\n",
    "df = spark.createDataFrame(a, ['id', 'f_name',  'f_add',  'l_name', 'l_add'])"
   ]
  },
  {
   "cell_type": "code",
   "execution_count": 79,
   "id": "f6ce9d11",
   "metadata": {},
   "outputs": [
    {
     "name": "stdout",
     "output_type": "stream",
     "text": [
      "+---+-------------+------------+\n",
      "| id|           s1|          s2|\n",
      "+---+-------------+------------+\n",
      "|aaa| [{in, nats}]| [{in, tom}]|\n",
      "|bbb|[{on, nats1}]|[{on, tom1}]|\n",
      "+---+-------------+------------+\n",
      "\n"
     ]
    }
   ],
   "source": [
    "l = (\n",
    "    df\n",
    "    .withColumn('t1', F.struct('l_add', 'l_name'))\n",
    "    .withColumn('t2', F.struct('f_add', 'f_name'))\n",
    "    .groupBy('id')\n",
    "    .agg(\n",
    "        F.collect_list('t1').alias('s1'),\n",
    "        F.collect_list('t2').alias('s2'),\n",
    "        )\n",
    "    # .select(F.concat('t1', 't2'))\n",
    ")\n",
    "l.show()"
   ]
  },
  {
   "cell_type": "code",
   "execution_count": 80,
   "id": "b2046795",
   "metadata": {},
   "outputs": [
    {
     "data": {
      "text/plain": [
       "DataFrame[id: string, s1: array<struct<l_add:string,l_name:string>>, s2: array<struct<f_add:string,f_name:string>>]"
      ]
     },
     "execution_count": 80,
     "metadata": {},
     "output_type": "execute_result"
    }
   ],
   "source": [
    "l"
   ]
  },
  {
   "cell_type": "code",
   "execution_count": null,
   "id": "7b434885",
   "metadata": {},
   "outputs": [],
   "source": [
    "def merge_history(df):"
   ]
  },
  {
   "cell_type": "code",
   "execution_count": 91,
   "id": "2176c751",
   "metadata": {},
   "outputs": [
    {
     "name": "stdout",
     "output_type": "stream",
     "text": [
      "+---+----+------+------+------+-----------+-------------------+--------------------------------+---------------+-------------+\n",
      "|pk1|pk2 |nonpk1|nonpk2|nonpk3|nonpk_extra|ts                 |row_hash                        |row_actual_from|row_actual_to|\n",
      "+---+----+------+------+------+-----------+-------------------+--------------------------------+---------------+-------------+\n",
      "|v1 |null|null  |null  |c2    |r3         |2023-05-07 15:00:00|56e6807f4b745e20dffeb1b731e5a6d4|2023-05-07     |2023-05-09   |\n",
      "|v1 |null|null  |null  |null  |null       |2023-05-10 15:00:00|6654c734ccab8f440ff0825eb443dc7f|2023-05-10     |2023-05-10   |\n",
      "|v1 |null|null  |fds   |null  |null       |2023-05-11 15:00:00|2d2722576095dd7996570b307d777539|2023-05-11     |2023-05-11   |\n",
      "|v1 |null|null  |fds   |asdf  |null       |2023-05-12 15:00:00|b08363345cd7c1cb14e6f4747ce1563d|2023-05-12     |9999-12-31   |\n",
      "|v1 |c1  |a1    |b1    |c1    |r1         |2023-05-01 10:00:00|93e6cc4b8b0445cf261e9417106ae6f0|2023-05-01     |2023-05-02   |\n",
      "|v1 |c1  |a1    |b2    |c2    |null       |2023-05-03 15:00:00|a6244d3c7c2aed33c4d9525fbef29c1d|2023-05-03     |2023-05-04   |\n",
      "|v1 |c1  |null  |b2    |c2    |r3         |2023-05-05 15:00:00|17f599be9e07976c2036361c9ad8f633|2023-05-05     |2023-05-06   |\n",
      "|v1 |c1  |null  |null  |c2    |r3         |2023-05-07 15:00:00|a363a9dd6d5b30865ab5813581941516|2023-05-07     |2023-05-09   |\n",
      "|v1 |c1  |null  |null  |null  |null       |2023-05-10 15:00:00|da58ea33b20d82042d9969c46c16c3b8|2023-05-10     |2023-05-12   |\n",
      "|v1 |c1  |null  |null  |c2    |r3         |2023-05-13 15:00:00|a363a9dd6d5b30865ab5813581941516|2023-05-13     |9999-12-31   |\n",
      "+---+----+------+------+------+-----------+-------------------+--------------------------------+---------------+-------------+\n",
      "\n"
     ]
    }
   ],
   "source": [
    "s2.show(100, False)"
   ]
  },
  {
   "cell_type": "code",
   "execution_count": 115,
   "id": "7a805fcf",
   "metadata": {},
   "outputs": [],
   "source": [
    "import inspect"
   ]
  },
  {
   "cell_type": "code",
   "execution_count": 120,
   "id": "5ec57511",
   "metadata": {},
   "outputs": [],
   "source": [
    "class E:\n",
    "    def __init__(self, a1, a2, a3=5, a4=8):\n",
    "        print(locals())\n",
    "        pass"
   ]
  },
  {
   "cell_type": "code",
   "execution_count": 121,
   "id": "49426e49",
   "metadata": {},
   "outputs": [
    {
     "name": "stdout",
     "output_type": "stream",
     "text": [
      "{'self': <__main__.E object at 0x7ff3b2297850>, 'a1': 1, 'a2': 2, 'a3': 5, 'a4': 8}\n"
     ]
    }
   ],
   "source": [
    "k = E(1,2)"
   ]
  },
  {
   "cell_type": "code",
   "execution_count": 114,
   "id": "edfed00c",
   "metadata": {},
   "outputs": [
    {
     "data": {
      "text/plain": [
       "<__main__.E at 0x7ff3e21c0940>"
      ]
     },
     "execution_count": 114,
     "metadata": {},
     "output_type": "execute_result"
    }
   ],
   "source": [
    "k"
   ]
  },
  {
   "cell_type": "code",
   "execution_count": null,
   "id": "cf9f69b8",
   "metadata": {},
   "outputs": [],
   "source": []
  },
  {
   "cell_type": "code",
   "execution_count": null,
   "id": "62fd8080",
   "metadata": {},
   "outputs": [],
   "source": []
  },
  {
   "cell_type": "code",
   "execution_count": null,
   "id": "e7be9f93",
   "metadata": {},
   "outputs": [],
   "source": []
  },
  {
   "cell_type": "code",
   "execution_count": null,
   "id": "e1cce324",
   "metadata": {},
   "outputs": [],
   "source": []
  },
  {
   "cell_type": "code",
   "execution_count": null,
   "id": "38a9c95c",
   "metadata": {},
   "outputs": [],
   "source": []
  },
  {
   "cell_type": "code",
   "execution_count": 5,
   "id": "35dde350-b242-495f-866a-fcc20fb47a81",
   "metadata": {},
   "outputs": [],
   "source": [
    "df1, df2 = [spark.read.csv(f'scd2_data/df_scd2_join_{i}.csv', sep=';', header=True) for i in range(1, 3)]"
   ]
  },
  {
   "cell_type": "code",
   "execution_count": 6,
   "id": "e43ae19a-c9fc-4025-8abb-626b2d5da4a5",
   "metadata": {},
   "outputs": [
    {
     "name": "stdout",
     "output_type": "stream",
     "text": [
      "+---+---+--------+-------------------+\n",
      "|pk1|pk2|phone_id|ts                 |\n",
      "+---+---+--------+-------------------+\n",
      "|v1 |c1 |e1      |2023-04-01 10:00:00|\n",
      "|v1 |c1 |e2      |2023-05-06 12:00:00|\n",
      "|v1 |c1 |e3      |2023-05-12 12:00:00|\n",
      "|v1 |c1 |e1      |2023-05-13 12:00:00|\n",
      "|v1 |c2 |e1      |2023-04-01 10:00:00|\n",
      "|v1 |c2 |e2      |2023-05-06 12:00:00|\n",
      "|v1 |c2 |e3      |2023-05-12 12:00:00|\n",
      "|v1 |c2 |e1      |2023-05-13 12:00:00|\n",
      "+---+---+--------+-------------------+\n",
      "\n"
     ]
    }
   ],
   "source": [
    "df2.show(10, False)"
   ]
  },
  {
   "cell_type": "code",
   "execution_count": 7,
   "id": "d2f67671-94d3-4575-8176-2d8e37dcc021",
   "metadata": {},
   "outputs": [],
   "source": [
    "# df1_scd2, df2_scd2 = [df_to_scd2(df, ['pk1', 'pk2'], [non_pk_col], 'ts').orderBy(['pk1', 'pk2', 'ts']).drop('ts') for df, non_pk_col in zip((df1, df2), ('email_id', 'phone_id'))]"
   ]
  },
  {
   "cell_type": "code",
   "execution_count": 8,
   "id": "8b0ac168-a2d1-40ef-a79f-abc0e783f815",
   "metadata": {},
   "outputs": [
    {
     "name": "stdout",
     "output_type": "stream",
     "text": [
      "+---+---+--------+--------------------------------+---------------+-------------+\n",
      "|pk1|pk2|phone_id|row_hash                        |row_actual_from|row_actual_to|\n",
      "+---+---+--------+--------------------------------+---------------+-------------+\n",
      "|v1 |c1 |e1      |e14f0e80db49cd1501de87adf05f6022|2023-04-01     |2023-05-05   |\n",
      "|v1 |c1 |e2      |9862c1fb9265b03695dc9a727406c43e|2023-05-06     |2023-05-11   |\n",
      "|v1 |c1 |e3      |543b4e1fe15d3cd37fc7b9454156f4e1|2023-05-12     |2023-05-12   |\n",
      "|v1 |c1 |e1      |e14f0e80db49cd1501de87adf05f6022|2023-05-13     |9999-12-31   |\n",
      "|v1 |c2 |e1      |db078b8d7b629e8c3e11aeaf24952480|2023-04-01     |2023-05-05   |\n",
      "|v1 |c2 |e2      |284ed4afc0045d818e840896714656ca|2023-05-06     |2023-05-11   |\n",
      "|v1 |c2 |e3      |87795052bb06129a6007a0dfaad2efef|2023-05-12     |2023-05-12   |\n",
      "|v1 |c2 |e1      |db078b8d7b629e8c3e11aeaf24952480|2023-05-13     |9999-12-31   |\n",
      "+---+---+--------+--------------------------------+---------------+-------------+\n",
      "\n"
     ]
    }
   ],
   "source": [
    "df2_scd2.show(100, False)"
   ]
  },
  {
   "cell_type": "code",
   "execution_count": 9,
   "id": "3742d05d-0fcd-4dab-9f81-444d50a64840",
   "metadata": {},
   "outputs": [],
   "source": [
    "def validate_df_scd2(df, pk, ): pass"
   ]
  },
  {
   "cell_type": "code",
   "execution_count": 10,
   "id": "b3cf5f68-f6d8-4172-84fb-1db2b7395c4f",
   "metadata": {},
   "outputs": [
    {
     "name": "stdout",
     "output_type": "stream",
     "text": [
      "+---+---+--------+--------+---------------+-------------+\n",
      "|pk1|pk2|email_id|phone_id|row_actual_from|row_actual_to|\n",
      "+---+---+--------+--------+---------------+-------------+\n",
      "|v1 |c1 |e1      |e1      |2023-05-01     |2023-05-03   |\n",
      "|v1 |c1 |e2      |e1      |2023-05-04     |2023-05-05   |\n",
      "|v1 |c1 |e2      |e2      |2023-05-06     |2023-05-09   |\n",
      "|v1 |c1 |e3      |e2      |2023-05-10     |2023-05-11   |\n",
      "|v1 |c1 |e1      |e3      |2023-05-12     |2023-05-12   |\n",
      "|v1 |c1 |e1      |e1      |2023-05-13     |9999-12-31   |\n",
      "|v1 |c2 |e1      |e1      |2023-05-01     |2023-05-05   |\n",
      "|v1 |c2 |e1      |e2      |2023-05-06     |2023-05-11   |\n",
      "|v1 |c2 |e1      |e3      |2023-05-12     |2023-05-12   |\n",
      "|v1 |c2 |e1      |e1      |2023-05-13     |9999-12-31   |\n",
      "+---+---+--------+--------+---------------+-------------+\n",
      "\n"
     ]
    }
   ],
   "source": [
    "def scd2_join(df1, df2, pk):\n",
    "    df1, df2 = df1.alias('df1'), df2.alias('df2')\n",
    "    \n",
    "    tech_attr = {'row_actual_from', 'row_actual_to', 'row_hash'}\n",
    "    def get_non_pk_attrs(df):\n",
    "        all_attrs = set(df.columns)\n",
    "        pk_attrs = set(pk)\n",
    "        non_pk_attrs = all_attrs - tech_attr - pk_attrs\n",
    "        return non_pk_attrs\n",
    "    \n",
    "    greatest_from = F.greatest(df1['row_actual_from'], df2['row_actual_from'])\n",
    "    least_to = F.least(df1['row_actual_to'], df2['row_actual_to'])\n",
    "    pk_cond_join = ' and '.join([f'df1.{pk_col} = df2.{pk_col}' for pk_col in pk])\n",
    "    \n",
    "    cond_scd2_join = F.expr(pk_cond_join) & (greatest_from <= least_to)\n",
    "    df_joined = (\n",
    "        df1\n",
    "        .join(df2, on=cond_scd2_join, how='inner')\n",
    "    )\n",
    "    \n",
    "    df_new_scd2 = (\n",
    "        df_joined\n",
    "        .select(\n",
    "            *[f'df1.{pk_col}' for pk_col in pk], # из-за условия джоина нельзя просто так взять атрибуты из pk\n",
    "            *get_non_pk_attrs(df1),\n",
    "            *get_non_pk_attrs(df2),\n",
    "            greatest_from.alias('row_actual_from'),\n",
    "            least_to.alias('row_actual_to'),\n",
    "        )\n",
    "    )\n",
    "\n",
    "    return df_new_scd2\n",
    "scd2_join(df1_scd2, df2_scd2, ['pk1','pk2']).orderBy('pk1', 'pk2','row_actual_from').show(100, False)"
   ]
  },
  {
   "cell_type": "code",
   "execution_count": 11,
   "id": "50d6db1a-5890-4dcf-a92c-83ea128d88a9",
   "metadata": {},
   "outputs": [],
   "source": [
    "spark.stop()"
   ]
  }
 ],
 "metadata": {
  "kernelspec": {
   "display_name": "Python 3 (ipykernel)",
   "language": "python",
   "name": "python3"
  },
  "language_info": {
   "codemirror_mode": {
    "name": "ipython",
    "version": 3
   },
   "file_extension": ".py",
   "mimetype": "text/x-python",
   "name": "python",
   "nbconvert_exporter": "python",
   "pygments_lexer": "ipython3",
   "version": "3.10.8"
  }
 },
 "nbformat": 4,
 "nbformat_minor": 5
}
